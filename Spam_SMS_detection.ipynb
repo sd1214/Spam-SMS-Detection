{
  "nbformat": 4,
  "nbformat_minor": 0,
  "metadata": {
    "colab": {
      "name": "Spam_SMS_detection.ipynb",
      "provenance": [],
      "collapsed_sections": [],
      "authorship_tag": "ABX9TyPSeRQt70wumshbA2ZY9cbi",
      "include_colab_link": true
    },
    "kernelspec": {
      "name": "python3",
      "display_name": "Python 3"
    }
  },
  "cells": [
    {
      "cell_type": "markdown",
      "metadata": {
        "id": "view-in-github",
        "colab_type": "text"
      },
      "source": [
        "<a href=\"https://colab.research.google.com/github/sd1214/Spam-SMS-Detection/blob/main/Spam_SMS_detection.ipynb\" target=\"_parent\"><img src=\"https://colab.research.google.com/assets/colab-badge.svg\" alt=\"Open In Colab\"/></a>"
      ]
    },
    {
      "cell_type": "markdown",
      "metadata": {
        "id": "WGNhU0gh-IxJ"
      },
      "source": [
        "**Import** **Libraries**"
      ]
    },
    {
      "cell_type": "code",
      "metadata": {
        "id": "2H0cGXqc_1tk"
      },
      "source": [
        "import numpy as np\n",
        "import pandas as pd\n",
        "import csv"
      ],
      "execution_count": 1,
      "outputs": []
    },
    {
      "cell_type": "markdown",
      "metadata": {
        "id": "zVcHwOmw-G1w"
      },
      "source": [
        "**Upload Dataset**"
      ]
    },
    {
      "cell_type": "code",
      "metadata": {
        "id": "i87y6HYBBvs3",
        "outputId": "0915f728-a6be-47f6-b30e-2c3320636cad",
        "colab": {
          "resources": {
            "http://localhost:8080/nbextensions/google.colab/files.js": {
              "data": "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",
              "ok": true,
              "headers": [
                [
                  "content-type",
                  "application/javascript"
                ]
              ],
              "status": 200,
              "status_text": ""
            }
          },
          "base_uri": "https://localhost:8080/",
          "height": 72
        }
      },
      "source": [
        "from google.colab import files\n",
        "uploaded=files.upload()"
      ],
      "execution_count": 2,
      "outputs": [
        {
          "output_type": "display_data",
          "data": {
            "text/html": [
              "\n",
              "     <input type=\"file\" id=\"files-93759dbb-1c39-41a1-b227-48dc04f53a46\" name=\"files[]\" multiple disabled\n",
              "        style=\"border:none\" />\n",
              "     <output id=\"result-93759dbb-1c39-41a1-b227-48dc04f53a46\">\n",
              "      Upload widget is only available when the cell has been executed in the\n",
              "      current browser session. Please rerun this cell to enable.\n",
              "      </output>\n",
              "      <script src=\"/nbextensions/google.colab/files.js\"></script> "
            ],
            "text/plain": [
              "<IPython.core.display.HTML object>"
            ]
          },
          "metadata": {
            "tags": []
          }
        },
        {
          "output_type": "stream",
          "text": [
            "Saving spam.csv to spam (4).csv\n"
          ],
          "name": "stdout"
        }
      ]
    },
    {
      "cell_type": "markdown",
      "metadata": {
        "id": "r5wMIdPS_5wc"
      },
      "source": [
        "**View Data (first 5 and last 5)**"
      ]
    },
    {
      "cell_type": "code",
      "metadata": {
        "id": "Sj7Pu0QiCaeK",
        "outputId": "309be2f3-81ff-4489-d50d-25e34c5eec75",
        "colab": {
          "base_uri": "https://localhost:8080/",
          "height": 204
        }
      },
      "source": [
        "df=pd.read_csv('spam.csv',encoding='latin-1')\n",
        "df.head(5)"
      ],
      "execution_count": 3,
      "outputs": [
        {
          "output_type": "execute_result",
          "data": {
            "text/html": [
              "<div>\n",
              "<style scoped>\n",
              "    .dataframe tbody tr th:only-of-type {\n",
              "        vertical-align: middle;\n",
              "    }\n",
              "\n",
              "    .dataframe tbody tr th {\n",
              "        vertical-align: top;\n",
              "    }\n",
              "\n",
              "    .dataframe thead th {\n",
              "        text-align: right;\n",
              "    }\n",
              "</style>\n",
              "<table border=\"1\" class=\"dataframe\">\n",
              "  <thead>\n",
              "    <tr style=\"text-align: right;\">\n",
              "      <th></th>\n",
              "      <th>v1</th>\n",
              "      <th>v2</th>\n",
              "      <th>Unnamed: 2</th>\n",
              "      <th>Unnamed: 3</th>\n",
              "      <th>Unnamed: 4</th>\n",
              "    </tr>\n",
              "  </thead>\n",
              "  <tbody>\n",
              "    <tr>\n",
              "      <th>0</th>\n",
              "      <td>ham</td>\n",
              "      <td>Go until jurong point, crazy.. Available only ...</td>\n",
              "      <td>NaN</td>\n",
              "      <td>NaN</td>\n",
              "      <td>NaN</td>\n",
              "    </tr>\n",
              "    <tr>\n",
              "      <th>1</th>\n",
              "      <td>ham</td>\n",
              "      <td>Ok lar... Joking wif u oni...</td>\n",
              "      <td>NaN</td>\n",
              "      <td>NaN</td>\n",
              "      <td>NaN</td>\n",
              "    </tr>\n",
              "    <tr>\n",
              "      <th>2</th>\n",
              "      <td>spam</td>\n",
              "      <td>Free entry in 2 a wkly comp to win FA Cup fina...</td>\n",
              "      <td>NaN</td>\n",
              "      <td>NaN</td>\n",
              "      <td>NaN</td>\n",
              "    </tr>\n",
              "    <tr>\n",
              "      <th>3</th>\n",
              "      <td>ham</td>\n",
              "      <td>U dun say so early hor... U c already then say...</td>\n",
              "      <td>NaN</td>\n",
              "      <td>NaN</td>\n",
              "      <td>NaN</td>\n",
              "    </tr>\n",
              "    <tr>\n",
              "      <th>4</th>\n",
              "      <td>ham</td>\n",
              "      <td>Nah I don't think he goes to usf, he lives aro...</td>\n",
              "      <td>NaN</td>\n",
              "      <td>NaN</td>\n",
              "      <td>NaN</td>\n",
              "    </tr>\n",
              "  </tbody>\n",
              "</table>\n",
              "</div>"
            ],
            "text/plain": [
              "     v1  ... Unnamed: 4\n",
              "0   ham  ...        NaN\n",
              "1   ham  ...        NaN\n",
              "2  spam  ...        NaN\n",
              "3   ham  ...        NaN\n",
              "4   ham  ...        NaN\n",
              "\n",
              "[5 rows x 5 columns]"
            ]
          },
          "metadata": {
            "tags": []
          },
          "execution_count": 3
        }
      ]
    },
    {
      "cell_type": "code",
      "metadata": {
        "id": "L_VmMu_fDIZw",
        "outputId": "8cfd1324-54ff-45f7-ffdf-eb390a7ed70f",
        "colab": {
          "base_uri": "https://localhost:8080/",
          "height": 204
        }
      },
      "source": [
        "df.tail(5)"
      ],
      "execution_count": 4,
      "outputs": [
        {
          "output_type": "execute_result",
          "data": {
            "text/html": [
              "<div>\n",
              "<style scoped>\n",
              "    .dataframe tbody tr th:only-of-type {\n",
              "        vertical-align: middle;\n",
              "    }\n",
              "\n",
              "    .dataframe tbody tr th {\n",
              "        vertical-align: top;\n",
              "    }\n",
              "\n",
              "    .dataframe thead th {\n",
              "        text-align: right;\n",
              "    }\n",
              "</style>\n",
              "<table border=\"1\" class=\"dataframe\">\n",
              "  <thead>\n",
              "    <tr style=\"text-align: right;\">\n",
              "      <th></th>\n",
              "      <th>v1</th>\n",
              "      <th>v2</th>\n",
              "      <th>Unnamed: 2</th>\n",
              "      <th>Unnamed: 3</th>\n",
              "      <th>Unnamed: 4</th>\n",
              "    </tr>\n",
              "  </thead>\n",
              "  <tbody>\n",
              "    <tr>\n",
              "      <th>5567</th>\n",
              "      <td>spam</td>\n",
              "      <td>This is the 2nd time we have tried 2 contact u...</td>\n",
              "      <td>NaN</td>\n",
              "      <td>NaN</td>\n",
              "      <td>NaN</td>\n",
              "    </tr>\n",
              "    <tr>\n",
              "      <th>5568</th>\n",
              "      <td>ham</td>\n",
              "      <td>Will Ì_ b going to esplanade fr home?</td>\n",
              "      <td>NaN</td>\n",
              "      <td>NaN</td>\n",
              "      <td>NaN</td>\n",
              "    </tr>\n",
              "    <tr>\n",
              "      <th>5569</th>\n",
              "      <td>ham</td>\n",
              "      <td>Pity, * was in mood for that. So...any other s...</td>\n",
              "      <td>NaN</td>\n",
              "      <td>NaN</td>\n",
              "      <td>NaN</td>\n",
              "    </tr>\n",
              "    <tr>\n",
              "      <th>5570</th>\n",
              "      <td>ham</td>\n",
              "      <td>The guy did some bitching but I acted like i'd...</td>\n",
              "      <td>NaN</td>\n",
              "      <td>NaN</td>\n",
              "      <td>NaN</td>\n",
              "    </tr>\n",
              "    <tr>\n",
              "      <th>5571</th>\n",
              "      <td>ham</td>\n",
              "      <td>Rofl. Its true to its name</td>\n",
              "      <td>NaN</td>\n",
              "      <td>NaN</td>\n",
              "      <td>NaN</td>\n",
              "    </tr>\n",
              "  </tbody>\n",
              "</table>\n",
              "</div>"
            ],
            "text/plain": [
              "        v1  ... Unnamed: 4\n",
              "5567  spam  ...        NaN\n",
              "5568   ham  ...        NaN\n",
              "5569   ham  ...        NaN\n",
              "5570   ham  ...        NaN\n",
              "5571   ham  ...        NaN\n",
              "\n",
              "[5 rows x 5 columns]"
            ]
          },
          "metadata": {
            "tags": []
          },
          "execution_count": 4
        }
      ]
    },
    {
      "cell_type": "markdown",
      "metadata": {
        "id": "OCDuWmELAF_I"
      },
      "source": [
        "**Dataframe shape**"
      ]
    },
    {
      "cell_type": "code",
      "metadata": {
        "id": "2F-Ure7wPwFs",
        "outputId": "ac3f767d-81e7-4a5b-a3bd-03f952c04bb3",
        "colab": {
          "base_uri": "https://localhost:8080/",
          "height": 34
        }
      },
      "source": [
        "df.shape"
      ],
      "execution_count": 5,
      "outputs": [
        {
          "output_type": "execute_result",
          "data": {
            "text/plain": [
              "(5572, 5)"
            ]
          },
          "metadata": {
            "tags": []
          },
          "execution_count": 5
        }
      ]
    },
    {
      "cell_type": "markdown",
      "metadata": {
        "id": "7wQD4r1lLTJm"
      },
      "source": [
        "## **Data Preprocessing**"
      ]
    },
    {
      "cell_type": "markdown",
      "metadata": {
        "id": "Q52idfjOKXBY"
      },
      "source": [
        "### **Data Cleaning**"
      ]
    },
    {
      "cell_type": "markdown",
      "metadata": {
        "id": "ZS4lFuObDkd_"
      },
      "source": [
        "**Remove duplicate datas from dataframe** "
      ]
    },
    {
      "cell_type": "code",
      "metadata": {
        "id": "giuH9Rp6tvom"
      },
      "source": [
        "df.drop_duplicates(inplace=True)"
      ],
      "execution_count": 6,
      "outputs": []
    },
    {
      "cell_type": "markdown",
      "metadata": {
        "id": "-rdB-cl8DpN8"
      },
      "source": [
        "**The new shape is (5169,5)**\n",
        "\n",
        "> **we can infer that few data were duplicate which got removed**\n",
        "\n",
        "\n"
      ]
    },
    {
      "cell_type": "code",
      "metadata": {
        "id": "o0Cr0XHsuMYF",
        "outputId": "49ca4989-fe42-4465-b098-dff8874bb323",
        "colab": {
          "base_uri": "https://localhost:8080/",
          "height": 34
        }
      },
      "source": [
        "df.shape"
      ],
      "execution_count": 7,
      "outputs": [
        {
          "output_type": "execute_result",
          "data": {
            "text/plain": [
              "(5169, 5)"
            ]
          },
          "metadata": {
            "tags": []
          },
          "execution_count": 7
        }
      ]
    },
    {
      "cell_type": "markdown",
      "metadata": {
        "id": "6MnsumZSEONb"
      },
      "source": [
        "**Check NAN values in Dataframe** "
      ]
    },
    {
      "cell_type": "code",
      "metadata": {
        "id": "A_gXYmuNQYUQ",
        "outputId": "7554ed67-ce20-4ff8-9cb1-f816faf75057",
        "colab": {
          "base_uri": "https://localhost:8080/",
          "height": 255
        }
      },
      "source": [
        "df.isnull"
      ],
      "execution_count": 8,
      "outputs": [
        {
          "output_type": "execute_result",
          "data": {
            "text/plain": [
              "<bound method DataFrame.isnull of         v1  ... Unnamed: 4\n",
              "0      ham  ...        NaN\n",
              "1      ham  ...        NaN\n",
              "2     spam  ...        NaN\n",
              "3      ham  ...        NaN\n",
              "4      ham  ...        NaN\n",
              "...    ...  ...        ...\n",
              "5567  spam  ...        NaN\n",
              "5568   ham  ...        NaN\n",
              "5569   ham  ...        NaN\n",
              "5570   ham  ...        NaN\n",
              "5571   ham  ...        NaN\n",
              "\n",
              "[5169 rows x 5 columns]>"
            ]
          },
          "metadata": {
            "tags": []
          },
          "execution_count": 8
        }
      ]
    },
    {
      "cell_type": "markdown",
      "metadata": {
        "id": "pztQ04YJFSF8"
      },
      "source": [
        "**Number of NAN values in each attributes**"
      ]
    },
    {
      "cell_type": "code",
      "metadata": {
        "id": "mhGZjxwmQs7v",
        "outputId": "58bd97fc-c1cc-4ace-f3e8-bcce2a807e86",
        "colab": {
          "base_uri": "https://localhost:8080/",
          "height": 102
        }
      },
      "source": [
        "print(df['v1'].isnull().sum())\n",
        "print(df['v2'].isnull().sum())\n",
        "print(df['Unnamed: 2'].isnull().sum())\n",
        "print(df['Unnamed: 3'].isnull().sum())\n",
        "print(df['Unnamed: 4'].isnull().sum())\n"
      ],
      "execution_count": 9,
      "outputs": [
        {
          "output_type": "stream",
          "text": [
            "0\n",
            "0\n",
            "5126\n",
            "5159\n",
            "5164\n"
          ],
          "name": "stdout"
        }
      ]
    },
    {
      "cell_type": "markdown",
      "metadata": {
        "id": "t16Auso5FhDo"
      },
      "source": [
        "**Drop attributes with NAN values**"
      ]
    },
    {
      "cell_type": "code",
      "metadata": {
        "id": "0s4TJeGYRFlI"
      },
      "source": [
        "df=df.drop(['Unnamed: 2','Unnamed: 3','Unnamed: 4'],axis=1)"
      ],
      "execution_count": 10,
      "outputs": []
    },
    {
      "cell_type": "markdown",
      "metadata": {
        "id": "nEOp35C3GClX"
      },
      "source": [
        "**Renaming 'v1'-> 'Output' and  'v2'-> 'Text'**"
      ]
    },
    {
      "cell_type": "code",
      "metadata": {
        "id": "u-VzNrVwUfIn"
      },
      "source": [
        "df=df.rename({'v1':'Output','v2':'Text'},axis=1)"
      ],
      "execution_count": 11,
      "outputs": []
    },
    {
      "cell_type": "code",
      "metadata": {
        "id": "zcxcCdDaVXgz",
        "outputId": "c3a6681e-85dc-41a1-c507-8b82783d1726",
        "colab": {
          "base_uri": "https://localhost:8080/",
          "height": 419
        }
      },
      "source": [
        "df"
      ],
      "execution_count": 12,
      "outputs": [
        {
          "output_type": "execute_result",
          "data": {
            "text/html": [
              "<div>\n",
              "<style scoped>\n",
              "    .dataframe tbody tr th:only-of-type {\n",
              "        vertical-align: middle;\n",
              "    }\n",
              "\n",
              "    .dataframe tbody tr th {\n",
              "        vertical-align: top;\n",
              "    }\n",
              "\n",
              "    .dataframe thead th {\n",
              "        text-align: right;\n",
              "    }\n",
              "</style>\n",
              "<table border=\"1\" class=\"dataframe\">\n",
              "  <thead>\n",
              "    <tr style=\"text-align: right;\">\n",
              "      <th></th>\n",
              "      <th>Output</th>\n",
              "      <th>Text</th>\n",
              "    </tr>\n",
              "  </thead>\n",
              "  <tbody>\n",
              "    <tr>\n",
              "      <th>0</th>\n",
              "      <td>ham</td>\n",
              "      <td>Go until jurong point, crazy.. Available only ...</td>\n",
              "    </tr>\n",
              "    <tr>\n",
              "      <th>1</th>\n",
              "      <td>ham</td>\n",
              "      <td>Ok lar... Joking wif u oni...</td>\n",
              "    </tr>\n",
              "    <tr>\n",
              "      <th>2</th>\n",
              "      <td>spam</td>\n",
              "      <td>Free entry in 2 a wkly comp to win FA Cup fina...</td>\n",
              "    </tr>\n",
              "    <tr>\n",
              "      <th>3</th>\n",
              "      <td>ham</td>\n",
              "      <td>U dun say so early hor... U c already then say...</td>\n",
              "    </tr>\n",
              "    <tr>\n",
              "      <th>4</th>\n",
              "      <td>ham</td>\n",
              "      <td>Nah I don't think he goes to usf, he lives aro...</td>\n",
              "    </tr>\n",
              "    <tr>\n",
              "      <th>...</th>\n",
              "      <td>...</td>\n",
              "      <td>...</td>\n",
              "    </tr>\n",
              "    <tr>\n",
              "      <th>5567</th>\n",
              "      <td>spam</td>\n",
              "      <td>This is the 2nd time we have tried 2 contact u...</td>\n",
              "    </tr>\n",
              "    <tr>\n",
              "      <th>5568</th>\n",
              "      <td>ham</td>\n",
              "      <td>Will Ì_ b going to esplanade fr home?</td>\n",
              "    </tr>\n",
              "    <tr>\n",
              "      <th>5569</th>\n",
              "      <td>ham</td>\n",
              "      <td>Pity, * was in mood for that. So...any other s...</td>\n",
              "    </tr>\n",
              "    <tr>\n",
              "      <th>5570</th>\n",
              "      <td>ham</td>\n",
              "      <td>The guy did some bitching but I acted like i'd...</td>\n",
              "    </tr>\n",
              "    <tr>\n",
              "      <th>5571</th>\n",
              "      <td>ham</td>\n",
              "      <td>Rofl. Its true to its name</td>\n",
              "    </tr>\n",
              "  </tbody>\n",
              "</table>\n",
              "<p>5169 rows × 2 columns</p>\n",
              "</div>"
            ],
            "text/plain": [
              "     Output                                               Text\n",
              "0       ham  Go until jurong point, crazy.. Available only ...\n",
              "1       ham                      Ok lar... Joking wif u oni...\n",
              "2      spam  Free entry in 2 a wkly comp to win FA Cup fina...\n",
              "3       ham  U dun say so early hor... U c already then say...\n",
              "4       ham  Nah I don't think he goes to usf, he lives aro...\n",
              "...     ...                                                ...\n",
              "5567   spam  This is the 2nd time we have tried 2 contact u...\n",
              "5568    ham              Will Ì_ b going to esplanade fr home?\n",
              "5569    ham  Pity, * was in mood for that. So...any other s...\n",
              "5570    ham  The guy did some bitching but I acted like i'd...\n",
              "5571    ham                         Rofl. Its true to its name\n",
              "\n",
              "[5169 rows x 2 columns]"
            ]
          },
          "metadata": {
            "tags": []
          },
          "execution_count": 12
        }
      ]
    },
    {
      "cell_type": "markdown",
      "metadata": {
        "id": "-yFbZH2FMHX7"
      },
      "source": [
        "## **Data Visualization**"
      ]
    },
    {
      "cell_type": "markdown",
      "metadata": {
        "id": "1s-f8pI9Gaeq"
      },
      "source": [
        "**Plot Histogram for Spam and Ham**"
      ]
    },
    {
      "cell_type": "code",
      "metadata": {
        "id": "u-PppsnaVn4W",
        "outputId": "47362164-caca-4530-de18-4ea476cf9736",
        "colab": {
          "base_uri": "https://localhost:8080/",
          "height": 363
        }
      },
      "source": [
        "import matplotlib.pyplot as plt\n",
        "plt.xlabel(\"Ham or Spam\")\n",
        "plt.ylabel(\"frequency\")\n",
        "plt.title(\"frequency of Spam and Ham\")\n",
        "plt.hist(df['Output'])\n",
        "\n"
      ],
      "execution_count": 13,
      "outputs": [
        {
          "output_type": "execute_result",
          "data": {
            "text/plain": [
              "(array([4516.,    0.,    0.,    0.,    0.,    0.,    0.,    0.,    0.,\n",
              "         653.]),\n",
              " array([0. , 0.1, 0.2, 0.3, 0.4, 0.5, 0.6, 0.7, 0.8, 0.9, 1. ]),\n",
              " <a list of 10 Patch objects>)"
            ]
          },
          "metadata": {
            "tags": []
          },
          "execution_count": 13
        },
        {
          "output_type": "display_data",
          "data": {
            "image/png": "[encoded data removed]",
            "text/plain": [
              "<Figure size 432x288 with 1 Axes>"
            ]
          },
          "metadata": {
            "tags": [],
            "needs_background": "light"
          }
        }
      ]
    },
    {
      "cell_type": "markdown",
      "metadata": {
        "id": "6x027wIVGreQ"
      },
      "source": [
        "**Finding text length each row and add a column Text_length to the dataframe**"
      ]
    },
    {
      "cell_type": "code",
      "metadata": {
        "id": "2zPHt-8sm5VK",
        "outputId": "ca3c8ca3-d50a-46d0-e8d7-41748f0cbf07",
        "colab": {
          "base_uri": "https://localhost:8080/",
          "height": 419
        }
      },
      "source": [
        "length=[]\n",
        "for i in df['Text']:\n",
        "   length.append(len(i))\n",
        "df['Text_length']=length\n",
        "df"
      ],
      "execution_count": 14,
      "outputs": [
        {
          "output_type": "execute_result",
          "data": {
            "text/html": [
              "<div>\n",
              "<style scoped>\n",
              "    .dataframe tbody tr th:only-of-type {\n",
              "        vertical-align: middle;\n",
              "    }\n",
              "\n",
              "    .dataframe tbody tr th {\n",
              "        vertical-align: top;\n",
              "    }\n",
              "\n",
              "    .dataframe thead th {\n",
              "        text-align: right;\n",
              "    }\n",
              "</style>\n",
              "<table border=\"1\" class=\"dataframe\">\n",
              "  <thead>\n",
              "    <tr style=\"text-align: right;\">\n",
              "      <th></th>\n",
              "      <th>Output</th>\n",
              "      <th>Text</th>\n",
              "      <th>Text_length</th>\n",
              "    </tr>\n",
              "  </thead>\n",
              "  <tbody>\n",
              "    <tr>\n",
              "      <th>0</th>\n",
              "      <td>ham</td>\n",
              "      <td>Go until jurong point, crazy.. Available only ...</td>\n",
              "      <td>111</td>\n",
              "    </tr>\n",
              "    <tr>\n",
              "      <th>1</th>\n",
              "      <td>ham</td>\n",
              "      <td>Ok lar... Joking wif u oni...</td>\n",
              "      <td>29</td>\n",
              "    </tr>\n",
              "    <tr>\n",
              "      <th>2</th>\n",
              "      <td>spam</td>\n",
              "      <td>Free entry in 2 a wkly comp to win FA Cup fina...</td>\n",
              "      <td>155</td>\n",
              "    </tr>\n",
              "    <tr>\n",
              "      <th>3</th>\n",
              "      <td>ham</td>\n",
              "      <td>U dun say so early hor... U c already then say...</td>\n",
              "      <td>49</td>\n",
              "    </tr>\n",
              "    <tr>\n",
              "      <th>4</th>\n",
              "      <td>ham</td>\n",
              "      <td>Nah I don't think he goes to usf, he lives aro...</td>\n",
              "      <td>61</td>\n",
              "    </tr>\n",
              "    <tr>\n",
              "      <th>...</th>\n",
              "      <td>...</td>\n",
              "      <td>...</td>\n",
              "      <td>...</td>\n",
              "    </tr>\n",
              "    <tr>\n",
              "      <th>5567</th>\n",
              "      <td>spam</td>\n",
              "      <td>This is the 2nd time we have tried 2 contact u...</td>\n",
              "      <td>161</td>\n",
              "    </tr>\n",
              "    <tr>\n",
              "      <th>5568</th>\n",
              "      <td>ham</td>\n",
              "      <td>Will Ì_ b going to esplanade fr home?</td>\n",
              "      <td>37</td>\n",
              "    </tr>\n",
              "    <tr>\n",
              "      <th>5569</th>\n",
              "      <td>ham</td>\n",
              "      <td>Pity, * was in mood for that. So...any other s...</td>\n",
              "      <td>57</td>\n",
              "    </tr>\n",
              "    <tr>\n",
              "      <th>5570</th>\n",
              "      <td>ham</td>\n",
              "      <td>The guy did some bitching but I acted like i'd...</td>\n",
              "      <td>125</td>\n",
              "    </tr>\n",
              "    <tr>\n",
              "      <th>5571</th>\n",
              "      <td>ham</td>\n",
              "      <td>Rofl. Its true to its name</td>\n",
              "      <td>26</td>\n",
              "    </tr>\n",
              "  </tbody>\n",
              "</table>\n",
              "<p>5169 rows × 3 columns</p>\n",
              "</div>"
            ],
            "text/plain": [
              "     Output                                               Text  Text_length\n",
              "0       ham  Go until jurong point, crazy.. Available only ...          111\n",
              "1       ham                      Ok lar... Joking wif u oni...           29\n",
              "2      spam  Free entry in 2 a wkly comp to win FA Cup fina...          155\n",
              "3       ham  U dun say so early hor... U c already then say...           49\n",
              "4       ham  Nah I don't think he goes to usf, he lives aro...           61\n",
              "...     ...                                                ...          ...\n",
              "5567   spam  This is the 2nd time we have tried 2 contact u...          161\n",
              "5568    ham              Will Ì_ b going to esplanade fr home?           37\n",
              "5569    ham  Pity, * was in mood for that. So...any other s...           57\n",
              "5570    ham  The guy did some bitching but I acted like i'd...          125\n",
              "5571    ham                         Rofl. Its true to its name           26\n",
              "\n",
              "[5169 rows x 3 columns]"
            ]
          },
          "metadata": {
            "tags": []
          },
          "execution_count": 14
        }
      ]
    },
    {
      "cell_type": "markdown",
      "metadata": {
        "id": "PO8zzTsNHPKB"
      },
      "source": [
        "**Histogram of Length of text**"
      ]
    },
    {
      "cell_type": "code",
      "metadata": {
        "id": "z_tp7EMdptPG",
        "outputId": "3322c333-e403-4e7a-e508-96d7e5337e6a",
        "colab": {
          "base_uri": "https://localhost:8080/",
          "height": 312
        }
      },
      "source": [
        "plt.hist(df['Text_length'],bins=20, rwidth=0.8,color='g',label=\"Text length\")\n",
        "plt.xlabel(\"Text Length\")\n",
        "plt.ylabel(\"frequency\")\n",
        "plt.title(\"frequency of text length\")"
      ],
      "execution_count": 15,
      "outputs": [
        {
          "output_type": "execute_result",
          "data": {
            "text/plain": [
              "Text(0.5, 1.0, 'frequency of text length')"
            ]
          },
          "metadata": {
            "tags": []
          },
          "execution_count": 15
        },
        {
          "output_type": "display_data",
          "data": {
            "image/png": "[encoded data removed]",
            "text/plain": [
              "<Figure size 432x288 with 1 Axes>"
            ]
          },
          "metadata": {
            "tags": [],
            "needs_background": "light"
          }
        }
      ]
    },
    {
      "cell_type": "code",
      "metadata": {
        "id": "3vnegbLL8IFT",
        "outputId": "ff664330-7ec5-45a7-ac58-eea0c6f20e38",
        "colab": {
          "base_uri": "https://localhost:8080/",
          "height": 334
        }
      },
      "source": [
        "plt.figure(figsize=(12,5))\n",
        "df[df['Output']=='spam']['Text_length'].plot(bins=35,kind='hist',color='blue',label='spam',alpha=0.5)\n",
        "plt.legend()\n",
        "plt.xlabel('message length')\n",
        "plt.show()\n"
      ],
      "execution_count": 16,
      "outputs": [
        {
          "output_type": "display_data",
          "data": {
            "image/png": "[encoded data removed]",
            "text/plain": [
              "<Figure size 864x360 with 1 Axes>"
            ]
          },
          "metadata": {
            "tags": [],
            "needs_background": "light"
          }
        }
      ]
    },
    {
      "cell_type": "markdown",
      "metadata": {
        "id": "msy4oBzuIdFd"
      },
      "source": [
        "**Histogram plot for Spam text length**"
      ]
    },
    {
      "cell_type": "code",
      "metadata": {
        "id": "cOGyccEL8z1O",
        "outputId": "32a4cc49-35ed-4959-ce4f-4b6ada0a4d55",
        "colab": {
          "base_uri": "https://localhost:8080/",
          "height": 312
        }
      },
      "source": [
        "plt.hist(df[df['Output']=='spam']['Text_length'],bins=20,color='b',rwidth=0.8,label='spam word length',alpha=0.8)\n",
        "plt.xlabel(\"text Length\")\n",
        "plt.ylabel(\"frequency\")\n",
        "plt.title(\"Spam text length\")"
      ],
      "execution_count": 17,
      "outputs": [
        {
          "output_type": "execute_result",
          "data": {
            "text/plain": [
              "Text(0.5, 1.0, 'Spam text length')"
            ]
          },
          "metadata": {
            "tags": []
          },
          "execution_count": 17
        },
        {
          "output_type": "display_data",
          "data": {
            "image/png": "[encoded data removed]",
            "text/plain": [
              "<Figure size 432x288 with 1 Axes>"
            ]
          },
          "metadata": {
            "tags": [],
            "needs_background": "light"
          }
        }
      ]
    },
    {
      "cell_type": "markdown",
      "metadata": {
        "id": "OrqiC7deIl_M"
      },
      "source": [
        "**Histogram plot for Ham text length**"
      ]
    },
    {
      "cell_type": "code",
      "metadata": {
        "id": "fmhYQs6CINlg",
        "outputId": "3cb98255-7de2-4fb6-9ee0-af1d4b4f77f1",
        "colab": {
          "base_uri": "https://localhost:8080/",
          "height": 312
        }
      },
      "source": [
        "plt.hist(df[df['Output']=='ham']['Text_length'],bins=20,color='b',rwidth=0.8,label='Ham word length',alpha=0.8)\n",
        "plt.xlabel(\"text Length\")\n",
        "plt.ylabel(\"frequency\")\n",
        "plt.title(\"Ham text length\")"
      ],
      "execution_count": 18,
      "outputs": [
        {
          "output_type": "execute_result",
          "data": {
            "text/plain": [
              "Text(0.5, 1.0, 'Ham text length')"
            ]
          },
          "metadata": {
            "tags": []
          },
          "execution_count": 18
        },
        {
          "output_type": "display_data",
          "data": {
            "image/png": "[encoded data removed]",
            "text/plain": [
              "<Figure size 432x288 with 1 Axes>"
            ]
          },
          "metadata": {
            "tags": [],
            "needs_background": "light"
          }
        }
      ]
    },
    {
      "cell_type": "markdown",
      "metadata": {
        "id": "WvSMue5YIpg9"
      },
      "source": [
        "**Histogram plot representing both Spam and Ham text length**"
      ]
    },
    {
      "cell_type": "code",
      "metadata": {
        "id": "9KKtadkC9UqC",
        "outputId": "5212c816-9343-4516-af3e-f6b5130269d6",
        "colab": {
          "base_uri": "https://localhost:8080/",
          "height": 312
        }
      },
      "source": [
        "plt.hist(df[df['Output']=='spam']['Text_length'],bins=20,color='b',rwidth=0.8,label='spam word length',alpha=0.8)\n",
        "plt.hist(df[df['Output']=='ham']['Text_length'].head(1600),bins=20,color='g',rwidth=0.8,label='spam word length',alpha=0.8)\n",
        "plt.xlabel(\"text Length\")\n",
        "plt.ylabel(\"frequency\")\n",
        "plt.title(\"Spam vs ham text length\")"
      ],
      "execution_count": 19,
      "outputs": [
        {
          "output_type": "execute_result",
          "data": {
            "text/plain": [
              "Text(0.5, 1.0, 'Spam vs ham text length')"
            ]
          },
          "metadata": {
            "tags": []
          },
          "execution_count": 19
        },
        {
          "output_type": "display_data",
          "data": {
            "image/png": "[encoded data removed]",
            "text/plain": [
              "<Figure size 432x288 with 1 Axes>"
            ]
          },
          "metadata": {
            "tags": [],
            "needs_background": "light"
          }
        }
      ]
    },
    {
      "cell_type": "code",
      "metadata": {
        "id": "HayWZrdd9_Iu",
        "outputId": "4c137bab-4751-42b7-d82b-8841bb756b51",
        "colab": {
          "base_uri": "https://localhost:8080/",
          "height": 68
        }
      },
      "source": [
        "df['Output'].value_counts()"
      ],
      "execution_count": 20,
      "outputs": [
        {
          "output_type": "execute_result",
          "data": {
            "text/plain": [
              "ham     4516\n",
              "spam     653\n",
              "Name: Output, dtype: int64"
            ]
          },
          "metadata": {
            "tags": []
          },
          "execution_count": 20
        }
      ]
    },
    {
      "cell_type": "markdown",
      "metadata": {
        "id": "T0sCE1JaIzbg"
      },
      "source": [
        "**Since the number spam text are very less as compared to Ham text, so we will equal number of spam and ham samples from dataset and plot histogram for better analysis. Before selecting samples we will shuffle the samples**\n",
        "\n",
        "> **By analysising the plot we can say that Spam texts are generally have higher length as compared to Ham text.**\n",
        "\n"
      ]
    },
    {
      "cell_type": "code",
      "metadata": {
        "id": "r3ptMWKo-dRU",
        "outputId": "220719a5-738e-4b18-8e68-9e7b245ed38e",
        "colab": {
          "base_uri": "https://localhost:8080/",
          "height": 295
        }
      },
      "source": [
        "import math\n",
        "df.sample(frac=1)\n",
        "plt.hist(df[df['Output']=='spam']['Text_length'],bins=20,color='b',rwidth=0.99,alpha=0.8,label='Spam')\n",
        "plt.hist(df[df['Output']=='ham']['Text_length'].head(math.ceil(5169*(653/4516))),bins=20,rwidth=0.99,alpha=0.7,label='Ham')\n",
        "plt.xlabel(\"text Length\")\n",
        "plt.ylabel(\"frequency\")\n",
        "plt.title(\"Spam vs ham text length\")\n",
        "plt.legend(('Spam', 'Ham'), loc='upper right');\n"
      ],
      "execution_count": 21,
      "outputs": [
        {
          "output_type": "display_data",
          "data": {
            "image/png": "[encoded data removed]",
            "text/plain": [
              "<Figure size 432x288 with 1 Axes>"
            ]
          },
          "metadata": {
            "tags": [],
            "needs_background": "light"
          }
        }
      ]
    },
    {
      "cell_type": "markdown",
      "metadata": {
        "id": "2aEXydy6M3E9"
      },
      "source": [
        "## **Text data Cleaning**"
      ]
    },
    {
      "cell_type": "markdown",
      "metadata": {
        "id": "sEYPfo-tPmSV"
      },
      "source": [
        "**Import NLTK libraries for NLP**\n"
      ]
    },
    {
      "cell_type": "code",
      "metadata": {
        "id": "LHeuCkAPvLe8",
        "outputId": "21d69820-133e-4aa9-ec5e-ee193d3fc42d",
        "colab": {
          "base_uri": "https://localhost:8080/",
          "height": 68
        }
      },
      "source": [
        "import nltk\n",
        "nltk.download('stopwords')"
      ],
      "execution_count": 22,
      "outputs": [
        {
          "output_type": "stream",
          "text": [
            "[nltk_data] Downloading package stopwords to /root/nltk_data...\n",
            "[nltk_data]   Package stopwords is already up-to-date!\n"
          ],
          "name": "stdout"
        },
        {
          "output_type": "execute_result",
          "data": {
            "text/plain": [
              "True"
            ]
          },
          "metadata": {
            "tags": []
          },
          "execution_count": 22
        }
      ]
    },
    {
      "cell_type": "markdown",
      "metadata": {
        "id": "0wmyY9iLQ0l_"
      },
      "source": [
        "**Import modules**"
      ]
    },
    {
      "cell_type": "code",
      "metadata": {
        "id": "7HfDMo9EvtNm",
        "outputId": "094e7f8d-867a-4a7e-ab97-113b5415a78d",
        "colab": {
          "base_uri": "https://localhost:8080/",
          "height": 68
        }
      },
      "source": [
        "from nltk.tokenize import word_tokenize,wordpunct_tokenize\n",
        "from nltk.stem import PorterStemmer\n",
        "from nltk.corpus import stopwords\n",
        "nltk.download('punkt')"
      ],
      "execution_count": 23,
      "outputs": [
        {
          "output_type": "stream",
          "text": [
            "[nltk_data] Downloading package punkt to /root/nltk_data...\n",
            "[nltk_data]   Package punkt is already up-to-date!\n"
          ],
          "name": "stdout"
        },
        {
          "output_type": "execute_result",
          "data": {
            "text/plain": [
              "True"
            ]
          },
          "metadata": {
            "tags": []
          },
          "execution_count": 23
        }
      ]
    },
    {
      "cell_type": "markdown",
      "metadata": {
        "id": "F7lMR6T7RTHT"
      },
      "source": [
        "**Word tokenize function definition**"
      ]
    },
    {
      "cell_type": "code",
      "metadata": {
        "id": "0RiZUMKVNH2e"
      },
      "source": [
        "def tokenizer_fn(data):\n",
        "    return word_tokenize(data)"
      ],
      "execution_count": 24,
      "outputs": []
    },
    {
      "cell_type": "markdown",
      "metadata": {
        "id": "qkhzQsvCRdXq"
      },
      "source": [
        "**Tokenize words**\n",
        "\n",
        "> **Tokenize the text data**\n",
        "\n"
      ]
    },
    {
      "cell_type": "code",
      "metadata": {
        "id": "zr91PP0KQgKG",
        "outputId": "7e0d9981-fea0-432c-9715-d64690a75d8b",
        "colab": {
          "base_uri": "https://localhost:8080/",
          "height": 54
        }
      },
      "source": [
        "tokenize_text=[]\n",
        "for data in df['Text']:\n",
        "  tokenize_text.append(tokenizer_fn(data))\n",
        "print(tokenize_text[0])"
      ],
      "execution_count": 25,
      "outputs": [
        {
          "output_type": "stream",
          "text": [
            "['Go', 'until', 'jurong', 'point', ',', 'crazy..', 'Available', 'only', 'in', 'bugis', 'n', 'great', 'world', 'la', 'e', 'buffet', '...', 'Cine', 'there', 'got', 'amore', 'wat', '...']\n"
          ],
          "name": "stdout"
        }
      ]
    },
    {
      "cell_type": "markdown",
      "metadata": {
        "id": "J6VjQQMSRkmt"
      },
      "source": [
        "**Function to remove Stop Words and punctuations from text data**\n",
        "\n",
        "> **Stop Words- useless words or data in NLP**\n",
        "\n"
      ]
    },
    {
      "cell_type": "code",
      "metadata": {
        "id": "7GhyHm0CSKui"
      },
      "source": [
        "import string\n",
        "stopWords=set(stopwords.words('english'))\n",
        "def remove_stopwords_punctuations(data):\n",
        "    new_data=[]\n",
        "    for word in data:\n",
        "      if word.lower() not in stopWords and word.lower() not in string.punctuation and word.lower().isalpha():\n",
        "        new_data.append(word)\n",
        "    return new_data"
      ],
      "execution_count": 26,
      "outputs": []
    },
    {
      "cell_type": "markdown",
      "metadata": {
        "id": "cWLAn4EdSlXV"
      },
      "source": [
        "**Stop words and punctuations Removal**\n",
        "\n",
        "\n",
        "> **Clean text by removing stop words, punctuations and non-aphabetic words from the text data**\n",
        "\n",
        "\n",
        "\n"
      ]
    },
    {
      "cell_type": "code",
      "metadata": {
        "id": "pPyWRzwnVIb_",
        "outputId": "fd2cd350-208b-448d-db9d-8b126ea63d2c",
        "colab": {
          "base_uri": "https://localhost:8080/",
          "height": 71
        }
      },
      "source": [
        "new_text=[]\n",
        "for data in tokenize_text:\n",
        "  new_text.append(remove_stopwords_punctuations(data))\n",
        "print(tokenize_text[0])\n",
        "print(new_text[0])"
      ],
      "execution_count": 27,
      "outputs": [
        {
          "output_type": "stream",
          "text": [
            "['Go', 'until', 'jurong', 'point', ',', 'crazy..', 'Available', 'only', 'in', 'bugis', 'n', 'great', 'world', 'la', 'e', 'buffet', '...', 'Cine', 'there', 'got', 'amore', 'wat', '...']\n",
            "['Go', 'jurong', 'point', 'Available', 'bugis', 'n', 'great', 'world', 'la', 'e', 'buffet', 'Cine', 'got', 'amore', 'wat']\n"
          ],
          "name": "stdout"
        }
      ]
    },
    {
      "cell_type": "markdown",
      "metadata": {
        "id": "X0EKG1umS5Oi"
      },
      "source": [
        "**Stemming**\n",
        "\n",
        "> **Convert each word in text to stem word**\n",
        "\n",
        "> **Convert words back to string**\n",
        "\n",
        "> **Form a New column for Cleaned text data**\n",
        "\n",
        "\n",
        "\n",
        "\n",
        "\n"
      ]
    },
    {
      "cell_type": "code",
      "metadata": {
        "id": "o_qI5LbqaoiJ"
      },
      "source": [
        "from nltk.stem import PorterStemmer\n",
        "ps=PorterStemmer()\n",
        "clean_text=[]\n",
        "for words in new_text:\n",
        "  s=\"\"\n",
        "  for word in words:\n",
        "    s=s+ps.stem(word)+\" \";\n",
        "  clean_text.append(s);\n",
        "clean_text\n",
        "df['New_Text']=clean_text"
      ],
      "execution_count": 28,
      "outputs": []
    },
    {
      "cell_type": "markdown",
      "metadata": {
        "id": "qXAfJTwuUOPU"
      },
      "source": [
        "**Add a column for New text length after removing unwanted data**"
      ]
    },
    {
      "cell_type": "code",
      "metadata": {
        "id": "_lvVUpm0fy8h",
        "outputId": "4454944e-8355-41fc-c517-f3d9168c08f5",
        "colab": {
          "base_uri": "https://localhost:8080/",
          "height": 419
        }
      },
      "source": [
        "length_=[]\n",
        "for i in df['New_Text']:\n",
        "   length_.append(len(i))\n",
        "df['New_Text_length']=length_\n",
        "df"
      ],
      "execution_count": 29,
      "outputs": [
        {
          "output_type": "execute_result",
          "data": {
            "text/html": [
              "<div>\n",
              "<style scoped>\n",
              "    .dataframe tbody tr th:only-of-type {\n",
              "        vertical-align: middle;\n",
              "    }\n",
              "\n",
              "    .dataframe tbody tr th {\n",
              "        vertical-align: top;\n",
              "    }\n",
              "\n",
              "    .dataframe thead th {\n",
              "        text-align: right;\n",
              "    }\n",
              "</style>\n",
              "<table border=\"1\" class=\"dataframe\">\n",
              "  <thead>\n",
              "    <tr style=\"text-align: right;\">\n",
              "      <th></th>\n",
              "      <th>Output</th>\n",
              "      <th>Text</th>\n",
              "      <th>Text_length</th>\n",
              "      <th>New_Text</th>\n",
              "      <th>New_Text_length</th>\n",
              "    </tr>\n",
              "  </thead>\n",
              "  <tbody>\n",
              "    <tr>\n",
              "      <th>0</th>\n",
              "      <td>ham</td>\n",
              "      <td>Go until jurong point, crazy.. Available only ...</td>\n",
              "      <td>111</td>\n",
              "      <td>Go jurong point avail bugi n great world la e ...</td>\n",
              "      <td>71</td>\n",
              "    </tr>\n",
              "    <tr>\n",
              "      <th>1</th>\n",
              "      <td>ham</td>\n",
              "      <td>Ok lar... Joking wif u oni...</td>\n",
              "      <td>29</td>\n",
              "      <td>Ok lar joke wif u oni</td>\n",
              "      <td>22</td>\n",
              "    </tr>\n",
              "    <tr>\n",
              "      <th>2</th>\n",
              "      <td>spam</td>\n",
              "      <td>Free entry in 2 a wkly comp to win FA Cup fina...</td>\n",
              "      <td>155</td>\n",
              "      <td>free entri wkli comp win FA cup final tkt may ...</td>\n",
              "      <td>97</td>\n",
              "    </tr>\n",
              "    <tr>\n",
              "      <th>3</th>\n",
              "      <td>ham</td>\n",
              "      <td>U dun say so early hor... U c already then say...</td>\n",
              "      <td>49</td>\n",
              "      <td>U dun say earli hor U c alreadi say</td>\n",
              "      <td>36</td>\n",
              "    </tr>\n",
              "    <tr>\n",
              "      <th>4</th>\n",
              "      <td>ham</td>\n",
              "      <td>Nah I don't think he goes to usf, he lives aro...</td>\n",
              "      <td>61</td>\n",
              "      <td>nah think goe usf live around though</td>\n",
              "      <td>37</td>\n",
              "    </tr>\n",
              "    <tr>\n",
              "      <th>...</th>\n",
              "      <td>...</td>\n",
              "      <td>...</td>\n",
              "      <td>...</td>\n",
              "      <td>...</td>\n",
              "      <td>...</td>\n",
              "    </tr>\n",
              "    <tr>\n",
              "      <th>5567</th>\n",
              "      <td>spam</td>\n",
              "      <td>This is the 2nd time we have tried 2 contact u...</td>\n",
              "      <td>161</td>\n",
              "      <td>time tri contact U pound prize claim easi call...</td>\n",
              "      <td>57</td>\n",
              "    </tr>\n",
              "    <tr>\n",
              "      <th>5568</th>\n",
              "      <td>ham</td>\n",
              "      <td>Will Ì_ b going to esplanade fr home?</td>\n",
              "      <td>37</td>\n",
              "      <td>b go esplanad fr home</td>\n",
              "      <td>22</td>\n",
              "    </tr>\n",
              "    <tr>\n",
              "      <th>5569</th>\n",
              "      <td>ham</td>\n",
              "      <td>Pity, * was in mood for that. So...any other s...</td>\n",
              "      <td>57</td>\n",
              "      <td>piti mood suggest</td>\n",
              "      <td>18</td>\n",
              "    </tr>\n",
              "    <tr>\n",
              "      <th>5570</th>\n",
              "      <td>ham</td>\n",
              "      <td>The guy did some bitching but I acted like i'd...</td>\n",
              "      <td>125</td>\n",
              "      <td>guy bitch act like interest buy someth els nex...</td>\n",
              "      <td>66</td>\n",
              "    </tr>\n",
              "    <tr>\n",
              "      <th>5571</th>\n",
              "      <td>ham</td>\n",
              "      <td>Rofl. Its true to its name</td>\n",
              "      <td>26</td>\n",
              "      <td>rofl true name</td>\n",
              "      <td>15</td>\n",
              "    </tr>\n",
              "  </tbody>\n",
              "</table>\n",
              "<p>5169 rows × 5 columns</p>\n",
              "</div>"
            ],
            "text/plain": [
              "     Output  ... New_Text_length\n",
              "0       ham  ...              71\n",
              "1       ham  ...              22\n",
              "2      spam  ...              97\n",
              "3       ham  ...              36\n",
              "4       ham  ...              37\n",
              "...     ...  ...             ...\n",
              "5567   spam  ...              57\n",
              "5568    ham  ...              22\n",
              "5569    ham  ...              18\n",
              "5570    ham  ...              66\n",
              "5571    ham  ...              15\n",
              "\n",
              "[5169 rows x 5 columns]"
            ]
          },
          "metadata": {
            "tags": []
          },
          "execution_count": 29
        }
      ]
    },
    {
      "cell_type": "markdown",
      "metadata": {
        "id": "mT7J6Y4rU-0d"
      },
      "source": [
        "**Find correlation between old Text length and New Text length**\n",
        "\n",
        "> **Correlation comes out to 0.996696722316739, which shows that both attributes are highly correlated**\n",
        "\n"
      ]
    },
    {
      "cell_type": "code",
      "metadata": {
        "id": "HTrplD3jgtVi",
        "outputId": "38e14880-c824-40dc-dc4f-c4ecfaaf9ac9",
        "colab": {
          "base_uri": "https://localhost:8080/",
          "height": 34
        }
      },
      "source": [
        "from scipy.stats import pearsonr\n",
        "corr, _=pearsonr(df['Text_length'],df['New_Text_length'])\n",
        "print(corr)"
      ],
      "execution_count": 30,
      "outputs": [
        {
          "output_type": "stream",
          "text": [
            "0.9407392214925319\n"
          ],
          "name": "stdout"
        }
      ]
    },
    {
      "cell_type": "markdown",
      "metadata": {
        "id": "4kfxMuLtVed3"
      },
      "source": [
        "**Since old Text data and New Text data are having high correlation coefficient, we will drop New text length column**"
      ]
    },
    {
      "cell_type": "code",
      "metadata": {
        "id": "6GxvNEjThjbV",
        "outputId": "812e09fc-dbfa-4b31-f14a-f25d7ab7f679",
        "colab": {
          "base_uri": "https://localhost:8080/",
          "height": 419
        }
      },
      "source": [
        "df=df.drop(['New_Text_length'],axis=1)\n",
        "df"
      ],
      "execution_count": 31,
      "outputs": [
        {
          "output_type": "execute_result",
          "data": {
            "text/html": [
              "<div>\n",
              "<style scoped>\n",
              "    .dataframe tbody tr th:only-of-type {\n",
              "        vertical-align: middle;\n",
              "    }\n",
              "\n",
              "    .dataframe tbody tr th {\n",
              "        vertical-align: top;\n",
              "    }\n",
              "\n",
              "    .dataframe thead th {\n",
              "        text-align: right;\n",
              "    }\n",
              "</style>\n",
              "<table border=\"1\" class=\"dataframe\">\n",
              "  <thead>\n",
              "    <tr style=\"text-align: right;\">\n",
              "      <th></th>\n",
              "      <th>Output</th>\n",
              "      <th>Text</th>\n",
              "      <th>Text_length</th>\n",
              "      <th>New_Text</th>\n",
              "    </tr>\n",
              "  </thead>\n",
              "  <tbody>\n",
              "    <tr>\n",
              "      <th>0</th>\n",
              "      <td>ham</td>\n",
              "      <td>Go until jurong point, crazy.. Available only ...</td>\n",
              "      <td>111</td>\n",
              "      <td>Go jurong point avail bugi n great world la e ...</td>\n",
              "    </tr>\n",
              "    <tr>\n",
              "      <th>1</th>\n",
              "      <td>ham</td>\n",
              "      <td>Ok lar... Joking wif u oni...</td>\n",
              "      <td>29</td>\n",
              "      <td>Ok lar joke wif u oni</td>\n",
              "    </tr>\n",
              "    <tr>\n",
              "      <th>2</th>\n",
              "      <td>spam</td>\n",
              "      <td>Free entry in 2 a wkly comp to win FA Cup fina...</td>\n",
              "      <td>155</td>\n",
              "      <td>free entri wkli comp win FA cup final tkt may ...</td>\n",
              "    </tr>\n",
              "    <tr>\n",
              "      <th>3</th>\n",
              "      <td>ham</td>\n",
              "      <td>U dun say so early hor... U c already then say...</td>\n",
              "      <td>49</td>\n",
              "      <td>U dun say earli hor U c alreadi say</td>\n",
              "    </tr>\n",
              "    <tr>\n",
              "      <th>4</th>\n",
              "      <td>ham</td>\n",
              "      <td>Nah I don't think he goes to usf, he lives aro...</td>\n",
              "      <td>61</td>\n",
              "      <td>nah think goe usf live around though</td>\n",
              "    </tr>\n",
              "    <tr>\n",
              "      <th>...</th>\n",
              "      <td>...</td>\n",
              "      <td>...</td>\n",
              "      <td>...</td>\n",
              "      <td>...</td>\n",
              "    </tr>\n",
              "    <tr>\n",
              "      <th>5567</th>\n",
              "      <td>spam</td>\n",
              "      <td>This is the 2nd time we have tried 2 contact u...</td>\n",
              "      <td>161</td>\n",
              "      <td>time tri contact U pound prize claim easi call...</td>\n",
              "    </tr>\n",
              "    <tr>\n",
              "      <th>5568</th>\n",
              "      <td>ham</td>\n",
              "      <td>Will Ì_ b going to esplanade fr home?</td>\n",
              "      <td>37</td>\n",
              "      <td>b go esplanad fr home</td>\n",
              "    </tr>\n",
              "    <tr>\n",
              "      <th>5569</th>\n",
              "      <td>ham</td>\n",
              "      <td>Pity, * was in mood for that. So...any other s...</td>\n",
              "      <td>57</td>\n",
              "      <td>piti mood suggest</td>\n",
              "    </tr>\n",
              "    <tr>\n",
              "      <th>5570</th>\n",
              "      <td>ham</td>\n",
              "      <td>The guy did some bitching but I acted like i'd...</td>\n",
              "      <td>125</td>\n",
              "      <td>guy bitch act like interest buy someth els nex...</td>\n",
              "    </tr>\n",
              "    <tr>\n",
              "      <th>5571</th>\n",
              "      <td>ham</td>\n",
              "      <td>Rofl. Its true to its name</td>\n",
              "      <td>26</td>\n",
              "      <td>rofl true name</td>\n",
              "    </tr>\n",
              "  </tbody>\n",
              "</table>\n",
              "<p>5169 rows × 4 columns</p>\n",
              "</div>"
            ],
            "text/plain": [
              "     Output  ...                                           New_Text\n",
              "0       ham  ...  Go jurong point avail bugi n great world la e ...\n",
              "1       ham  ...                             Ok lar joke wif u oni \n",
              "2      spam  ...  free entri wkli comp win FA cup final tkt may ...\n",
              "3       ham  ...               U dun say earli hor U c alreadi say \n",
              "4       ham  ...              nah think goe usf live around though \n",
              "...     ...  ...                                                ...\n",
              "5567   spam  ...  time tri contact U pound prize claim easi call...\n",
              "5568    ham  ...                             b go esplanad fr home \n",
              "5569    ham  ...                                 piti mood suggest \n",
              "5570    ham  ...  guy bitch act like interest buy someth els nex...\n",
              "5571    ham  ...                                    rofl true name \n",
              "\n",
              "[5169 rows x 4 columns]"
            ]
          },
          "metadata": {
            "tags": []
          },
          "execution_count": 31
        }
      ]
    },
    {
      "cell_type": "markdown",
      "metadata": {
        "id": "u9QBdjGbVw8q"
      },
      "source": [
        "**Copy the data from New_Text to Text column**"
      ]
    },
    {
      "cell_type": "code",
      "metadata": {
        "id": "kjIKWgVpiIR_",
        "outputId": "a9784739-32eb-41a8-cd38-2d29d8cbf640",
        "colab": {
          "base_uri": "https://localhost:8080/",
          "height": 419
        }
      },
      "source": [
        "df['Text']=df['New_Text']\n",
        "df"
      ],
      "execution_count": 32,
      "outputs": [
        {
          "output_type": "execute_result",
          "data": {
            "text/html": [
              "<div>\n",
              "<style scoped>\n",
              "    .dataframe tbody tr th:only-of-type {\n",
              "        vertical-align: middle;\n",
              "    }\n",
              "\n",
              "    .dataframe tbody tr th {\n",
              "        vertical-align: top;\n",
              "    }\n",
              "\n",
              "    .dataframe thead th {\n",
              "        text-align: right;\n",
              "    }\n",
              "</style>\n",
              "<table border=\"1\" class=\"dataframe\">\n",
              "  <thead>\n",
              "    <tr style=\"text-align: right;\">\n",
              "      <th></th>\n",
              "      <th>Output</th>\n",
              "      <th>Text</th>\n",
              "      <th>Text_length</th>\n",
              "      <th>New_Text</th>\n",
              "    </tr>\n",
              "  </thead>\n",
              "  <tbody>\n",
              "    <tr>\n",
              "      <th>0</th>\n",
              "      <td>ham</td>\n",
              "      <td>Go jurong point avail bugi n great world la e ...</td>\n",
              "      <td>111</td>\n",
              "      <td>Go jurong point avail bugi n great world la e ...</td>\n",
              "    </tr>\n",
              "    <tr>\n",
              "      <th>1</th>\n",
              "      <td>ham</td>\n",
              "      <td>Ok lar joke wif u oni</td>\n",
              "      <td>29</td>\n",
              "      <td>Ok lar joke wif u oni</td>\n",
              "    </tr>\n",
              "    <tr>\n",
              "      <th>2</th>\n",
              "      <td>spam</td>\n",
              "      <td>free entri wkli comp win FA cup final tkt may ...</td>\n",
              "      <td>155</td>\n",
              "      <td>free entri wkli comp win FA cup final tkt may ...</td>\n",
              "    </tr>\n",
              "    <tr>\n",
              "      <th>3</th>\n",
              "      <td>ham</td>\n",
              "      <td>U dun say earli hor U c alreadi say</td>\n",
              "      <td>49</td>\n",
              "      <td>U dun say earli hor U c alreadi say</td>\n",
              "    </tr>\n",
              "    <tr>\n",
              "      <th>4</th>\n",
              "      <td>ham</td>\n",
              "      <td>nah think goe usf live around though</td>\n",
              "      <td>61</td>\n",
              "      <td>nah think goe usf live around though</td>\n",
              "    </tr>\n",
              "    <tr>\n",
              "      <th>...</th>\n",
              "      <td>...</td>\n",
              "      <td>...</td>\n",
              "      <td>...</td>\n",
              "      <td>...</td>\n",
              "    </tr>\n",
              "    <tr>\n",
              "      <th>5567</th>\n",
              "      <td>spam</td>\n",
              "      <td>time tri contact U pound prize claim easi call...</td>\n",
              "      <td>161</td>\n",
              "      <td>time tri contact U pound prize claim easi call...</td>\n",
              "    </tr>\n",
              "    <tr>\n",
              "      <th>5568</th>\n",
              "      <td>ham</td>\n",
              "      <td>b go esplanad fr home</td>\n",
              "      <td>37</td>\n",
              "      <td>b go esplanad fr home</td>\n",
              "    </tr>\n",
              "    <tr>\n",
              "      <th>5569</th>\n",
              "      <td>ham</td>\n",
              "      <td>piti mood suggest</td>\n",
              "      <td>57</td>\n",
              "      <td>piti mood suggest</td>\n",
              "    </tr>\n",
              "    <tr>\n",
              "      <th>5570</th>\n",
              "      <td>ham</td>\n",
              "      <td>guy bitch act like interest buy someth els nex...</td>\n",
              "      <td>125</td>\n",
              "      <td>guy bitch act like interest buy someth els nex...</td>\n",
              "    </tr>\n",
              "    <tr>\n",
              "      <th>5571</th>\n",
              "      <td>ham</td>\n",
              "      <td>rofl true name</td>\n",
              "      <td>26</td>\n",
              "      <td>rofl true name</td>\n",
              "    </tr>\n",
              "  </tbody>\n",
              "</table>\n",
              "<p>5169 rows × 4 columns</p>\n",
              "</div>"
            ],
            "text/plain": [
              "     Output  ...                                           New_Text\n",
              "0       ham  ...  Go jurong point avail bugi n great world la e ...\n",
              "1       ham  ...                             Ok lar joke wif u oni \n",
              "2      spam  ...  free entri wkli comp win FA cup final tkt may ...\n",
              "3       ham  ...               U dun say earli hor U c alreadi say \n",
              "4       ham  ...              nah think goe usf live around though \n",
              "...     ...  ...                                                ...\n",
              "5567   spam  ...  time tri contact U pound prize claim easi call...\n",
              "5568    ham  ...                             b go esplanad fr home \n",
              "5569    ham  ...                                 piti mood suggest \n",
              "5570    ham  ...  guy bitch act like interest buy someth els nex...\n",
              "5571    ham  ...                                    rofl true name \n",
              "\n",
              "[5169 rows x 4 columns]"
            ]
          },
          "metadata": {
            "tags": []
          },
          "execution_count": 32
        }
      ]
    },
    {
      "cell_type": "markdown",
      "metadata": {
        "id": "JHtSTpOZV-HG"
      },
      "source": [
        "**Drop New_text column**"
      ]
    },
    {
      "cell_type": "code",
      "metadata": {
        "id": "H_Bu2kYGik8J"
      },
      "source": [
        "df=df.drop(['New_Text'],axis=1)"
      ],
      "execution_count": 33,
      "outputs": []
    },
    {
      "cell_type": "markdown",
      "metadata": {
        "id": "LE1oTGqposWQ"
      },
      "source": [
        "**Correlation coefficient of Text-length and Output is found to be 0.3847170667143067**\n",
        "\n",
        "> **so we can infer that text length and outcome(Spam or Ham) are somewhat correlated**\n",
        "\n"
      ]
    },
    {
      "cell_type": "code",
      "metadata": {
        "id": "p3Wu_r4VIPjp",
        "outputId": "d9d7a9af-7f93-42d7-aa5f-781ce1cead5f",
        "colab": {
          "base_uri": "https://localhost:8080/",
          "height": 34
        }
      },
      "source": [
        "corr, _=pearsonr(df['Text_length'],df['Output'].astype('category').cat.codes)\n",
        "print(corr)"
      ],
      "execution_count": 34,
      "outputs": [
        {
          "output_type": "stream",
          "text": [
            "0.3847170667143067\n"
          ],
          "name": "stdout"
        }
      ]
    },
    {
      "cell_type": "markdown",
      "metadata": {
        "id": "AGqQB4MLdc2j"
      },
      "source": [
        "**Ham => 0**\n",
        "**Spam => 1**"
      ]
    },
    {
      "cell_type": "code",
      "metadata": {
        "id": "STYGmobVCkS5"
      },
      "source": [
        "df['Output']=np.where(df['Output']=='spam',1,0)"
      ],
      "execution_count": 35,
      "outputs": []
    },
    {
      "cell_type": "code",
      "metadata": {
        "id": "yvHRZkATAXIn"
      },
      "source": [
        "X=df['Text']\n",
        "Y=df['Output']"
      ],
      "execution_count": 36,
      "outputs": []
    },
    {
      "cell_type": "code",
      "metadata": {
        "id": "1hbaxAQUFjeU",
        "outputId": "0d6e11f6-1d02-47f6-a859-a46ecf1f5bef",
        "colab": {
          "base_uri": "https://localhost:8080/",
          "height": 221
        }
      },
      "source": [
        "X"
      ],
      "execution_count": 37,
      "outputs": [
        {
          "output_type": "execute_result",
          "data": {
            "text/plain": [
              "0       Go jurong point avail bugi n great world la e ...\n",
              "1                                  Ok lar joke wif u oni \n",
              "2       free entri wkli comp win FA cup final tkt may ...\n",
              "3                    U dun say earli hor U c alreadi say \n",
              "4                   nah think goe usf live around though \n",
              "                              ...                        \n",
              "5567    time tri contact U pound prize claim easi call...\n",
              "5568                               b go esplanad fr home \n",
              "5569                                   piti mood suggest \n",
              "5570    guy bitch act like interest buy someth els nex...\n",
              "5571                                      rofl true name \n",
              "Name: Text, Length: 5169, dtype: object"
            ]
          },
          "metadata": {
            "tags": []
          },
          "execution_count": 37
        }
      ]
    },
    {
      "cell_type": "code",
      "metadata": {
        "id": "nSL-tTr7Ddyd",
        "outputId": "21db1ca6-bb1f-48bf-ffb9-d9d93586a787",
        "colab": {
          "base_uri": "https://localhost:8080/",
          "height": 419
        }
      },
      "source": [
        "df"
      ],
      "execution_count": 38,
      "outputs": [
        {
          "output_type": "execute_result",
          "data": {
            "text/html": [
              "<div>\n",
              "<style scoped>\n",
              "    .dataframe tbody tr th:only-of-type {\n",
              "        vertical-align: middle;\n",
              "    }\n",
              "\n",
              "    .dataframe tbody tr th {\n",
              "        vertical-align: top;\n",
              "    }\n",
              "\n",
              "    .dataframe thead th {\n",
              "        text-align: right;\n",
              "    }\n",
              "</style>\n",
              "<table border=\"1\" class=\"dataframe\">\n",
              "  <thead>\n",
              "    <tr style=\"text-align: right;\">\n",
              "      <th></th>\n",
              "      <th>Output</th>\n",
              "      <th>Text</th>\n",
              "      <th>Text_length</th>\n",
              "    </tr>\n",
              "  </thead>\n",
              "  <tbody>\n",
              "    <tr>\n",
              "      <th>0</th>\n",
              "      <td>0</td>\n",
              "      <td>Go jurong point avail bugi n great world la e ...</td>\n",
              "      <td>111</td>\n",
              "    </tr>\n",
              "    <tr>\n",
              "      <th>1</th>\n",
              "      <td>0</td>\n",
              "      <td>Ok lar joke wif u oni</td>\n",
              "      <td>29</td>\n",
              "    </tr>\n",
              "    <tr>\n",
              "      <th>2</th>\n",
              "      <td>1</td>\n",
              "      <td>free entri wkli comp win FA cup final tkt may ...</td>\n",
              "      <td>155</td>\n",
              "    </tr>\n",
              "    <tr>\n",
              "      <th>3</th>\n",
              "      <td>0</td>\n",
              "      <td>U dun say earli hor U c alreadi say</td>\n",
              "      <td>49</td>\n",
              "    </tr>\n",
              "    <tr>\n",
              "      <th>4</th>\n",
              "      <td>0</td>\n",
              "      <td>nah think goe usf live around though</td>\n",
              "      <td>61</td>\n",
              "    </tr>\n",
              "    <tr>\n",
              "      <th>...</th>\n",
              "      <td>...</td>\n",
              "      <td>...</td>\n",
              "      <td>...</td>\n",
              "    </tr>\n",
              "    <tr>\n",
              "      <th>5567</th>\n",
              "      <td>1</td>\n",
              "      <td>time tri contact U pound prize claim easi call...</td>\n",
              "      <td>161</td>\n",
              "    </tr>\n",
              "    <tr>\n",
              "      <th>5568</th>\n",
              "      <td>0</td>\n",
              "      <td>b go esplanad fr home</td>\n",
              "      <td>37</td>\n",
              "    </tr>\n",
              "    <tr>\n",
              "      <th>5569</th>\n",
              "      <td>0</td>\n",
              "      <td>piti mood suggest</td>\n",
              "      <td>57</td>\n",
              "    </tr>\n",
              "    <tr>\n",
              "      <th>5570</th>\n",
              "      <td>0</td>\n",
              "      <td>guy bitch act like interest buy someth els nex...</td>\n",
              "      <td>125</td>\n",
              "    </tr>\n",
              "    <tr>\n",
              "      <th>5571</th>\n",
              "      <td>0</td>\n",
              "      <td>rofl true name</td>\n",
              "      <td>26</td>\n",
              "    </tr>\n",
              "  </tbody>\n",
              "</table>\n",
              "<p>5169 rows × 3 columns</p>\n",
              "</div>"
            ],
            "text/plain": [
              "      Output                                               Text  Text_length\n",
              "0          0  Go jurong point avail bugi n great world la e ...          111\n",
              "1          0                             Ok lar joke wif u oni            29\n",
              "2          1  free entri wkli comp win FA cup final tkt may ...          155\n",
              "3          0               U dun say earli hor U c alreadi say            49\n",
              "4          0              nah think goe usf live around though            61\n",
              "...      ...                                                ...          ...\n",
              "5567       1  time tri contact U pound prize claim easi call...          161\n",
              "5568       0                             b go esplanad fr home            37\n",
              "5569       0                                 piti mood suggest            57\n",
              "5570       0  guy bitch act like interest buy someth els nex...          125\n",
              "5571       0                                    rofl true name            26\n",
              "\n",
              "[5169 rows x 3 columns]"
            ]
          },
          "metadata": {
            "tags": []
          },
          "execution_count": 38
        }
      ]
    },
    {
      "cell_type": "markdown",
      "metadata": {
        "id": "etGaVreksfJA"
      },
      "source": [
        "## **Feature Extraction**"
      ]
    },
    {
      "cell_type": "markdown",
      "metadata": {
        "id": "_lYAFpqRp0XJ"
      },
      "source": [
        "**Import modules of Scikit-learn to split training and testing data**"
      ]
    },
    {
      "cell_type": "code",
      "metadata": {
        "id": "Et-YDkt_B7NQ"
      },
      "source": [
        "from sklearn.model_selection import train_test_split\n",
        "x_train,x_test,y_train,y_test=train_test_split(X,Y,random_state=0,test_size=0.2)"
      ],
      "execution_count": 39,
      "outputs": []
    },
    {
      "cell_type": "code",
      "metadata": {
        "id": "eqe2iYbaD5yx",
        "outputId": "084dce53-a07d-40f2-c679-4f1b1ee32d68",
        "colab": {
          "base_uri": "https://localhost:8080/",
          "height": 85
        }
      },
      "source": [
        "print(x_train.shape)\n",
        "print(x_test.shape)\n",
        "print(y_train.shape)\n",
        "print(y_test.shape)"
      ],
      "execution_count": 40,
      "outputs": [
        {
          "output_type": "stream",
          "text": [
            "(4135,)\n",
            "(1034,)\n",
            "(4135,)\n",
            "(1034,)\n"
          ],
          "name": "stdout"
        }
      ]
    },
    {
      "cell_type": "markdown",
      "metadata": {
        "id": "DoPAg3uxqGOz"
      },
      "source": [
        "**Feature extraction**\n",
        "\n",
        "> **Since the available input is text data, we will extract numeric data from it**\n",
        "\n",
        "> **We are using CountVectorizer which will count the frequency of unique words in the text**\n",
        "\n",
        "\n",
        "\n"
      ]
    },
    {
      "cell_type": "code",
      "metadata": {
        "id": "DVZADRibDSiX"
      },
      "source": [
        "from sklearn.feature_extraction.text import CountVectorizer\n",
        "cv=CountVectorizer()"
      ],
      "execution_count": 41,
      "outputs": []
    },
    {
      "cell_type": "code",
      "metadata": {
        "id": "-4x20bY5D2b7"
      },
      "source": [
        "X_train=cv.fit_transform(x_train)\n",
        "X_test=cv.transform(x_test)"
      ],
      "execution_count": 42,
      "outputs": []
    },
    {
      "cell_type": "markdown",
      "metadata": {
        "id": "XGuxYegEq1GO"
      },
      "source": [
        "\n",
        "**Check the new shape of X_train and X_test data after extracting feature from text data**\n",
        "> **From the new shape we can tell that 5078 features have been extracted by applying CountVectorizer on the text input**\n",
        "\n"
      ]
    },
    {
      "cell_type": "code",
      "metadata": {
        "id": "4X1ph5CLEbFI",
        "outputId": "af749e44-09c6-4557-82e7-7c6306095e0c",
        "colab": {
          "base_uri": "https://localhost:8080/",
          "height": 51
        }
      },
      "source": [
        "print(X_train.shape)\n",
        "print(X_test.shape)"
      ],
      "execution_count": 43,
      "outputs": [
        {
          "output_type": "stream",
          "text": [
            "(4135, 5078)\n",
            "(1034, 5078)\n"
          ],
          "name": "stdout"
        }
      ]
    },
    {
      "cell_type": "markdown",
      "metadata": {
        "id": "LSc0szNbrkBL"
      },
      "source": [
        "\n",
        "\n",
        "> **Since that features may contain many zero values for each row, so the data is stored in compressed Sparse Row format**\n",
        "\n"
      ]
    },
    {
      "cell_type": "code",
      "metadata": {
        "id": "cggZGSsSEijR",
        "outputId": "f20907a1-90cf-49be-df9c-b7fe39a617e4",
        "colab": {
          "base_uri": "https://localhost:8080/",
          "height": 51
        }
      },
      "source": [
        "X_train"
      ],
      "execution_count": 44,
      "outputs": [
        {
          "output_type": "execute_result",
          "data": {
            "text/plain": [
              "<4135x5078 sparse matrix of type '<class 'numpy.int64'>'\n",
              "\twith 30466 stored elements in Compressed Sparse Row format>"
            ]
          },
          "metadata": {
            "tags": []
          },
          "execution_count": 44
        }
      ]
    },
    {
      "cell_type": "markdown",
      "metadata": {
        "id": "KxMa34iDs9-b"
      },
      "source": [
        "# **Training Models**"
      ]
    },
    {
      "cell_type": "markdown",
      "metadata": {
        "id": "8mC5Z6dStac2"
      },
      "source": [
        "### **Naive Bayes Classifier**"
      ]
    },
    {
      "cell_type": "markdown",
      "metadata": {
        "id": "7rAKuGjHu5Ka"
      },
      "source": [
        "#### **Training the model**"
      ]
    },
    {
      "cell_type": "code",
      "metadata": {
        "id": "XcF7L07AEuGi"
      },
      "source": [
        "from sklearn.naive_bayes import MultinomialNB\n",
        "nb=MultinomialNB()\n",
        "nb.fit(X_train,y_train)\n",
        "pred_y_train_1=nb.predict(X_train)\n",
        "pred_y_test_1=nb.predict(X_test)"
      ],
      "execution_count": 45,
      "outputs": []
    },
    {
      "cell_type": "markdown",
      "metadata": {
        "id": "jnN4jaA1tlyQ"
      },
      "source": [
        "#### **Model Evaluation**"
      ]
    },
    {
      "cell_type": "markdown",
      "metadata": {
        "id": "RUrv2xfYt8bw"
      },
      "source": [
        "\n",
        "**On Training data**\n",
        "> **Accuracy Score= 0.9876662636033857**\n",
        "\n"
      ]
    },
    {
      "cell_type": "code",
      "metadata": {
        "id": "BvslA_FRH61z",
        "outputId": "2c81534e-441b-4d37-f0df-bfa50bcfd702",
        "colab": {
          "base_uri": "https://localhost:8080/",
          "height": 323
        }
      },
      "source": [
        "from sklearn.metrics import classification_report, confusion_matrix, accuracy_score\n",
        "print(\"Classification Report of training set for Naive Bayes\\n\")\n",
        "print(classification_report(y_train,pred_y_train_1))\n",
        "print(\"\\nConfusion Matrix\")\n",
        "print(confusion_matrix(y_train,pred_y_train_1))\n",
        "print(\"\\nAccuracy Score\")\n",
        "print(accuracy_score(y_train,pred_y_train_1))"
      ],
      "execution_count": 46,
      "outputs": [
        {
          "output_type": "stream",
          "text": [
            "Classification Report of training set for Naive Bayes\n",
            "\n",
            "              precision    recall  f1-score   support\n",
            "\n",
            "           0       0.99      0.99      0.99      3631\n",
            "           1       0.94      0.95      0.95       504\n",
            "\n",
            "    accuracy                           0.99      4135\n",
            "   macro avg       0.97      0.97      0.97      4135\n",
            "weighted avg       0.99      0.99      0.99      4135\n",
            "\n",
            "\n",
            "Confusion Matrix\n",
            "[[3603   28]\n",
            " [  23  481]]\n",
            "\n",
            "Accuracy Score\n",
            "0.9876662636033857\n"
          ],
          "name": "stdout"
        }
      ]
    },
    {
      "cell_type": "markdown",
      "metadata": {
        "id": "s4-l8siLuWLB"
      },
      "source": [
        "**On Test data**\n",
        "\n",
        "> **Accuracy Score= 0.9748549323017408**\n",
        "\n"
      ]
    },
    {
      "cell_type": "code",
      "metadata": {
        "id": "J-0CoFITMTjx",
        "outputId": "02565349-4aee-4b39-f436-fe024cdad4c2",
        "colab": {
          "base_uri": "https://localhost:8080/",
          "height": 323
        }
      },
      "source": [
        "print(\"Classification Report of Test set for Naive Bayes\\n\")\n",
        "print(classification_report(y_test,pred_y_test_1))\n",
        "print(\"\\nConfusion Matrix\")\n",
        "print(confusion_matrix(y_test,pred_y_test_1))\n",
        "print(\"\\nAccuracy Score\")\n",
        "print(accuracy_score(y_test,pred_y_test_1))"
      ],
      "execution_count": 47,
      "outputs": [
        {
          "output_type": "stream",
          "text": [
            "Classification Report of Test set for Naive Bayes\n",
            "\n",
            "              precision    recall  f1-score   support\n",
            "\n",
            "           0       0.98      0.99      0.99       885\n",
            "           1       0.96      0.87      0.91       149\n",
            "\n",
            "    accuracy                           0.97      1034\n",
            "   macro avg       0.97      0.93      0.95      1034\n",
            "weighted avg       0.97      0.97      0.97      1034\n",
            "\n",
            "\n",
            "Confusion Matrix\n",
            "[[879   6]\n",
            " [ 20 129]]\n",
            "\n",
            "Accuracy Score\n",
            "0.9748549323017408\n"
          ],
          "name": "stdout"
        }
      ]
    },
    {
      "cell_type": "markdown",
      "metadata": {
        "id": "3_B4SM8KfUFg"
      },
      "source": [
        "## **Logistic Regression**"
      ]
    },
    {
      "cell_type": "markdown",
      "metadata": {
        "id": "ogLwg7vLffD6"
      },
      "source": [
        "### **Training the model**\n",
        "\n",
        "> **With L2(default) regularization**\n",
        "\n"
      ]
    },
    {
      "cell_type": "code",
      "metadata": {
        "id": "YhOVxohgcFP7"
      },
      "source": [
        "from sklearn.linear_model import LogisticRegression\n",
        "lgr=LogisticRegression();\n",
        "lgr.fit(X_train,y_train);\n",
        "pred_y_train_2=lgr.predict(X_train);\n",
        "pred_y_test_2=lgr.predict(X_test);"
      ],
      "execution_count": 48,
      "outputs": []
    },
    {
      "cell_type": "code",
      "metadata": {
        "id": "vNp9azbydwWV",
        "outputId": "02b53f7e-7508-4c58-a37f-c2ddc024058e",
        "colab": {
          "base_uri": "https://localhost:8080/",
          "height": 323
        }
      },
      "source": [
        "from sklearn.metrics import classification_report, confusion_matrix, accuracy_score\n",
        "print(\"Classification Report of training set for Logistic Regression\\n\")\n",
        "print(classification_report(y_train,pred_y_train_2))\n",
        "print(\"\\nConfusion Matrix\")\n",
        "print(confusion_matrix(y_train,pred_y_train_2))\n",
        "print(\"\\nAccuracy Score\")\n",
        "print(accuracy_score(y_train,pred_y_train_2))"
      ],
      "execution_count": 49,
      "outputs": [
        {
          "output_type": "stream",
          "text": [
            "Classification Report of training set for Logistic Regression\n",
            "\n",
            "              precision    recall  f1-score   support\n",
            "\n",
            "           0       0.99      1.00      1.00      3631\n",
            "           1       1.00      0.96      0.98       504\n",
            "\n",
            "    accuracy                           0.99      4135\n",
            "   macro avg       1.00      0.98      0.99      4135\n",
            "weighted avg       0.99      0.99      0.99      4135\n",
            "\n",
            "\n",
            "Confusion Matrix\n",
            "[[3630    1]\n",
            " [  22  482]]\n",
            "\n",
            "Accuracy Score\n",
            "0.9944377267230955\n"
          ],
          "name": "stdout"
        }
      ]
    },
    {
      "cell_type": "code",
      "metadata": {
        "id": "EtYL5a5Pef9f",
        "outputId": "45d0da3f-56c5-4d24-ed57-b84858eb679b",
        "colab": {
          "base_uri": "https://localhost:8080/",
          "height": 323
        }
      },
      "source": [
        "from sklearn.metrics import classification_report, confusion_matrix, accuracy_score\n",
        "print(\"Classification Report of test set for Logistic Regression\\n\")\n",
        "print(classification_report(y_test,pred_y_test_2))\n",
        "print(\"\\nConfusion Matrix\")\n",
        "print(confusion_matrix(y_test,pred_y_test_2))\n",
        "print(\"\\nAccuracy Score\")\n",
        "print(accuracy_score(y_test,pred_y_test_2))"
      ],
      "execution_count": 50,
      "outputs": [
        {
          "output_type": "stream",
          "text": [
            "Classification Report of test set for Logistic Regression\n",
            "\n",
            "              precision    recall  f1-score   support\n",
            "\n",
            "           0       0.98      1.00      0.99       885\n",
            "           1       0.99      0.87      0.92       149\n",
            "\n",
            "    accuracy                           0.98      1034\n",
            "   macro avg       0.99      0.93      0.96      1034\n",
            "weighted avg       0.98      0.98      0.98      1034\n",
            "\n",
            "\n",
            "Confusion Matrix\n",
            "[[884   1]\n",
            " [ 20 129]]\n",
            "\n",
            "Accuracy Score\n",
            "0.9796905222437138\n"
          ],
          "name": "stdout"
        }
      ]
    },
    {
      "cell_type": "markdown",
      "metadata": {
        "id": "8lw4dXU0jlnq"
      },
      "source": [
        "### **Training the model**\n",
        "\n",
        "> **With no regularization**"
      ]
    },
    {
      "cell_type": "code",
      "metadata": {
        "id": "q17cxdQViyEF"
      },
      "source": [
        "from sklearn.linear_model import LogisticRegression\n",
        "lgr=LogisticRegression(penalty='none');\n",
        "lgr.fit(X_train,y_train);\n",
        "pred_y_train_2=lgr.predict(X_train);\n",
        "pred_y_test_2=lgr.predict(X_test);"
      ],
      "execution_count": 51,
      "outputs": []
    },
    {
      "cell_type": "code",
      "metadata": {
        "id": "4qaEosuoi8jD",
        "outputId": "671c01c7-0775-4660-95ef-c63f1d87bdd7",
        "colab": {
          "base_uri": "https://localhost:8080/",
          "height": 323
        }
      },
      "source": [
        "from sklearn.metrics import classification_report, confusion_matrix, accuracy_score\n",
        "print(\"Classification Report of training set for Logistic Regression (with No regularization)\\n\")\n",
        "print(classification_report(y_train,pred_y_train_2))\n",
        "print(\"\\nConfusion Matrix\")\n",
        "print(confusion_matrix(y_train,pred_y_train_2))\n",
        "print(\"\\nAccuracy Score\")\n",
        "print(accuracy_score(y_train,pred_y_train_2))"
      ],
      "execution_count": 52,
      "outputs": [
        {
          "output_type": "stream",
          "text": [
            "Classification Report of training set for Logistic Regression (with No regularization)\n",
            "\n",
            "              precision    recall  f1-score   support\n",
            "\n",
            "           0       1.00      1.00      1.00      3631\n",
            "           1       1.00      1.00      1.00       504\n",
            "\n",
            "    accuracy                           1.00      4135\n",
            "   macro avg       1.00      1.00      1.00      4135\n",
            "weighted avg       1.00      1.00      1.00      4135\n",
            "\n",
            "\n",
            "Confusion Matrix\n",
            "[[3631    0]\n",
            " [   1  503]]\n",
            "\n",
            "Accuracy Score\n",
            "0.999758162031439\n"
          ],
          "name": "stdout"
        }
      ]
    },
    {
      "cell_type": "markdown",
      "metadata": {
        "id": "P2__U68BjrqF"
      },
      "source": [
        "**Analysis**\n",
        "\n",
        "> **Without regularization the model performs poorly in test data while training set accuracy is very high**\n",
        "\n"
      ]
    },
    {
      "cell_type": "code",
      "metadata": {
        "id": "7CTvpK6jjEiO",
        "outputId": "1706326f-c1e0-4abd-950b-9a5ec9c140d3",
        "colab": {
          "base_uri": "https://localhost:8080/",
          "height": 323
        }
      },
      "source": [
        "from sklearn.metrics import classification_report, confusion_matrix, accuracy_score\n",
        "print(\"Classification Report of test set for Logistic Regression (with No regularization)\\n\")\n",
        "print(classification_report(y_test,pred_y_test_2))\n",
        "print(\"\\nConfusion Matrix\")\n",
        "print(confusion_matrix(y_test,pred_y_test_2))\n",
        "print(\"\\nAccuracy Score\")\n",
        "print(accuracy_score(y_test,pred_y_test_2))"
      ],
      "execution_count": 53,
      "outputs": [
        {
          "output_type": "stream",
          "text": [
            "Classification Report of test set for Logistic Regression (with No regularization)\n",
            "\n",
            "              precision    recall  f1-score   support\n",
            "\n",
            "           0       0.98      0.96      0.97       885\n",
            "           1       0.79      0.87      0.83       149\n",
            "\n",
            "    accuracy                           0.95      1034\n",
            "   macro avg       0.88      0.91      0.90      1034\n",
            "weighted avg       0.95      0.95      0.95      1034\n",
            "\n",
            "\n",
            "Confusion Matrix\n",
            "[[851  34]\n",
            " [ 20 129]]\n",
            "\n",
            "Accuracy Score\n",
            "0.9477756286266924\n"
          ],
          "name": "stdout"
        }
      ]
    },
    {
      "cell_type": "markdown",
      "metadata": {
        "id": "h9J6R5BCkTJy"
      },
      "source": [
        "### **Training the model**\n",
        "\n",
        "> **With L2 regularization with Saga solver, max_iter=10000 and inverse regularization strength=0.7**"
      ]
    },
    {
      "cell_type": "code",
      "metadata": {
        "id": "gv6dGd4BkRaE"
      },
      "source": [
        "from sklearn.linear_model import LogisticRegression\n",
        "lgr=LogisticRegression(penalty=\"l2\",solver='saga',max_iter=10000,C=0.7,tol=1e-4);\n",
        "lgr.fit(X_train,y_train);\n",
        "pred_y_train_2=lgr.predict(X_train);\n",
        "pred_y_test_2=lgr.predict(X_test);"
      ],
      "execution_count": 54,
      "outputs": []
    },
    {
      "cell_type": "code",
      "metadata": {
        "id": "X3KnaJdWk9sp",
        "outputId": "2f2a0770-4b17-4359-a80f-f1673e58ce8e",
        "colab": {
          "base_uri": "https://localhost:8080/",
          "height": 323
        }
      },
      "source": [
        "from sklearn.metrics import classification_report, confusion_matrix, accuracy_score\n",
        "print(\"Classification Report of training set for Logistic Regression (L2 with Saga) \\n\")\n",
        "print(classification_report(y_train,pred_y_train_2))\n",
        "print(\"\\nConfusion Matrix\")\n",
        "print(confusion_matrix(y_train,pred_y_train_2))\n",
        "print(\"\\nAccuracy Score\")\n",
        "print(accuracy_score(y_train,pred_y_train_2))"
      ],
      "execution_count": 55,
      "outputs": [
        {
          "output_type": "stream",
          "text": [
            "Classification Report of training set for Logistic Regression (L2 with Saga) \n",
            "\n",
            "              precision    recall  f1-score   support\n",
            "\n",
            "           0       0.99      1.00      1.00      3631\n",
            "           1       1.00      0.94      0.97       504\n",
            "\n",
            "    accuracy                           0.99      4135\n",
            "   macro avg       0.99      0.97      0.98      4135\n",
            "weighted avg       0.99      0.99      0.99      4135\n",
            "\n",
            "\n",
            "Confusion Matrix\n",
            "[[3630    1]\n",
            " [  31  473]]\n",
            "\n",
            "Accuracy Score\n",
            "0.992261185006046\n"
          ],
          "name": "stdout"
        }
      ]
    },
    {
      "cell_type": "code",
      "metadata": {
        "id": "gw0bhjXtlRxk",
        "outputId": "7ef9a572-7117-4651-bb3d-f3475c2dd674",
        "colab": {
          "base_uri": "https://localhost:8080/",
          "height": 323
        }
      },
      "source": [
        "from sklearn.metrics import classification_report, confusion_matrix, accuracy_score\n",
        "print(\"Classification Report of test set for Logistic Regression(L2 with Saga)\\n\")\n",
        "print(classification_report(y_test,pred_y_test_2))\n",
        "print(\"\\nConfusion Matrix\")\n",
        "print(confusion_matrix(y_test,pred_y_test_2))\n",
        "print(\"\\nAccuracy Score\")\n",
        "print(accuracy_score(y_test,pred_y_test_2))"
      ],
      "execution_count": 56,
      "outputs": [
        {
          "output_type": "stream",
          "text": [
            "Classification Report of test set for Logistic Regression(L2 with Saga)\n",
            "\n",
            "              precision    recall  f1-score   support\n",
            "\n",
            "           0       0.98      1.00      0.99       885\n",
            "           1       0.99      0.87      0.93       149\n",
            "\n",
            "    accuracy                           0.98      1034\n",
            "   macro avg       0.99      0.94      0.96      1034\n",
            "weighted avg       0.98      0.98      0.98      1034\n",
            "\n",
            "\n",
            "Confusion Matrix\n",
            "[[884   1]\n",
            " [ 19 130]]\n",
            "\n",
            "Accuracy Score\n",
            "0.9806576402321083\n"
          ],
          "name": "stdout"
        }
      ]
    },
    {
      "cell_type": "markdown",
      "metadata": {
        "id": "IdVMin8-vyTy"
      },
      "source": [
        "## **SVM Classifier**"
      ]
    },
    {
      "cell_type": "markdown",
      "metadata": {
        "id": "GeWdKqinwGg4"
      },
      "source": [
        "### **Training the Model**\n",
        "\n"
      ]
    },
    {
      "cell_type": "code",
      "metadata": {
        "id": "JlxWrIuDwder"
      },
      "source": [
        "from sklearn import svm\n",
        "svm=svm.LinearSVC()\n",
        "svm.fit(X_train,y_train);\n",
        "pred_y_train_3=svm.predict(X_train);\n",
        "pred_y_test_3=svm.predict(X_test);"
      ],
      "execution_count": 57,
      "outputs": []
    },
    {
      "cell_type": "code",
      "metadata": {
        "id": "Y1Nw-2mSwhn7",
        "outputId": "24da7377-e6ee-4f43-f93f-bf70130983b4",
        "colab": {
          "base_uri": "https://localhost:8080/",
          "height": 323
        }
      },
      "source": [
        "from sklearn.metrics import classification_report, confusion_matrix, accuracy_score\n",
        "print(\"Classification Report of training set for SVM classifier \\n\")\n",
        "print(classification_report(y_train,pred_y_train_3))\n",
        "print(\"\\nConfusion Matrix\")\n",
        "print(confusion_matrix(y_train,pred_y_train_3))\n",
        "print(\"\\nAccuracy Score\")\n",
        "print(accuracy_score(y_train,pred_y_train_3))"
      ],
      "execution_count": 58,
      "outputs": [
        {
          "output_type": "stream",
          "text": [
            "Classification Report of training set for SVM classifier \n",
            "\n",
            "              precision    recall  f1-score   support\n",
            "\n",
            "           0       1.00      1.00      1.00      3631\n",
            "           1       1.00      1.00      1.00       504\n",
            "\n",
            "    accuracy                           1.00      4135\n",
            "   macro avg       1.00      1.00      1.00      4135\n",
            "weighted avg       1.00      1.00      1.00      4135\n",
            "\n",
            "\n",
            "Confusion Matrix\n",
            "[[3631    0]\n",
            " [   2  502]]\n",
            "\n",
            "Accuracy Score\n",
            "0.9995163240628778\n"
          ],
          "name": "stdout"
        }
      ]
    },
    {
      "cell_type": "code",
      "metadata": {
        "id": "scu-zhxnwlJM",
        "outputId": "da1ad4bc-d740-4656-eebd-c4999d344734",
        "colab": {
          "base_uri": "https://localhost:8080/",
          "height": 323
        }
      },
      "source": [
        "from sklearn.metrics import classification_report, confusion_matrix, accuracy_score\n",
        "print(\"Classification Report of test set for SVM classifier\\n\")\n",
        "print(classification_report(y_test,pred_y_test_3))\n",
        "print(\"\\nConfusion Matrix\")\n",
        "print(confusion_matrix(y_test,pred_y_test_3))\n",
        "print(\"\\nAccuracy Score\")\n",
        "print(accuracy_score(y_test,pred_y_test_3))"
      ],
      "execution_count": 59,
      "outputs": [
        {
          "output_type": "stream",
          "text": [
            "Classification Report of test set for SVM classifier\n",
            "\n",
            "              precision    recall  f1-score   support\n",
            "\n",
            "           0       0.98      0.99      0.99       885\n",
            "           1       0.96      0.88      0.92       149\n",
            "\n",
            "    accuracy                           0.98      1034\n",
            "   macro avg       0.97      0.94      0.95      1034\n",
            "weighted avg       0.98      0.98      0.98      1034\n",
            "\n",
            "\n",
            "Confusion Matrix\n",
            "[[880   5]\n",
            " [ 18 131]]\n",
            "\n",
            "Accuracy Score\n",
            "0.9777562862669246\n"
          ],
          "name": "stdout"
        }
      ]
    },
    {
      "cell_type": "markdown",
      "metadata": {
        "id": "XN4p0Kgcy1BF"
      },
      "source": [
        "## **KNN**"
      ]
    },
    {
      "cell_type": "markdown",
      "metadata": {
        "id": "BEn8SGPjz4F4"
      },
      "source": [
        "### **Training the Model**"
      ]
    },
    {
      "cell_type": "code",
      "metadata": {
        "id": "kwUelup9z8d_"
      },
      "source": [
        "from sklearn.neighbors import KNeighborsClassifier\n",
        "knn=KNeighborsClassifier(n_neighbors=2,weights=\"distance\")\n",
        "knn.fit(X_train,y_train);\n",
        "pred_y_train_4=knn.predict(X_train);\n",
        "pred_y_test_4=knn.predict(X_test);"
      ],
      "execution_count": 60,
      "outputs": []
    },
    {
      "cell_type": "code",
      "metadata": {
        "id": "FJG1QRb5z_vt",
        "outputId": "4029b138-8482-4110-de7a-7dac5537b958",
        "colab": {
          "base_uri": "https://localhost:8080/",
          "height": 323
        }
      },
      "source": [
        "from sklearn.metrics import classification_report, confusion_matrix, accuracy_score\n",
        "print(\"Classification Report of training set for KNN \\n\")\n",
        "print(classification_report(y_train,pred_y_train_4))\n",
        "print(\"\\nConfusion Matrix\")\n",
        "print(confusion_matrix(y_train,pred_y_train_4))\n",
        "print(\"\\nAccuracy Score\")\n",
        "print(accuracy_score(y_train,pred_y_train_4))"
      ],
      "execution_count": 61,
      "outputs": [
        {
          "output_type": "stream",
          "text": [
            "Classification Report of training set for KNN \n",
            "\n",
            "              precision    recall  f1-score   support\n",
            "\n",
            "           0       1.00      1.00      1.00      3631\n",
            "           1       1.00      1.00      1.00       504\n",
            "\n",
            "    accuracy                           1.00      4135\n",
            "   macro avg       1.00      1.00      1.00      4135\n",
            "weighted avg       1.00      1.00      1.00      4135\n",
            "\n",
            "\n",
            "Confusion Matrix\n",
            "[[3631    0]\n",
            " [   1  503]]\n",
            "\n",
            "Accuracy Score\n",
            "0.999758162031439\n"
          ],
          "name": "stdout"
        }
      ]
    },
    {
      "cell_type": "code",
      "metadata": {
        "id": "raO3_F7q0DLs",
        "outputId": "aa747499-d954-40d1-a8da-abc266a8b013",
        "colab": {
          "base_uri": "https://localhost:8080/",
          "height": 323
        }
      },
      "source": [
        "from sklearn.metrics import classification_report, confusion_matrix, accuracy_score\n",
        "print(\"Classification Report of training set for KNN\\n\")\n",
        "print(classification_report(y_test,pred_y_test_4))\n",
        "print(\"\\nConfusion Matrix\")\n",
        "print(confusion_matrix(y_test,pred_y_test_4))\n",
        "print(\"\\nAccuracy Score\")\n",
        "print(accuracy_score(y_test,pred_y_test_4))"
      ],
      "execution_count": 62,
      "outputs": [
        {
          "output_type": "stream",
          "text": [
            "Classification Report of training set for KNN\n",
            "\n",
            "              precision    recall  f1-score   support\n",
            "\n",
            "           0       0.94      1.00      0.97       885\n",
            "           1       1.00      0.61      0.76       149\n",
            "\n",
            "    accuracy                           0.94      1034\n",
            "   macro avg       0.97      0.81      0.86      1034\n",
            "weighted avg       0.95      0.94      0.94      1034\n",
            "\n",
            "\n",
            "Confusion Matrix\n",
            "[[885   0]\n",
            " [ 58  91]]\n",
            "\n",
            "Accuracy Score\n",
            "0.9439071566731141\n"
          ],
          "name": "stdout"
        }
      ]
    },
    {
      "cell_type": "code",
      "metadata": {
        "id": "CpFJZAnIEU7q",
        "outputId": "c3374515-b671-4e05-fb1e-ca473abd9485",
        "colab": {
          "base_uri": "https://localhost:8080/",
          "height": 221
        }
      },
      "source": [
        "y_test"
      ],
      "execution_count": 63,
      "outputs": [
        {
          "output_type": "execute_result",
          "data": {
            "text/plain": [
              "1851    0\n",
              "2375    0\n",
              "2743    0\n",
              "3324    0\n",
              "3995    0\n",
              "       ..\n",
              "2237    0\n",
              "4368    0\n",
              "3046    0\n",
              "4263    0\n",
              "2674    0\n",
              "Name: Output, Length: 1034, dtype: int64"
            ]
          },
          "metadata": {
            "tags": []
          },
          "execution_count": 63
        }
      ]
    },
    {
      "cell_type": "code",
      "metadata": {
        "id": "aPvYPcp2-8WZ",
        "outputId": "653300d8-f778-4d0c-e494-61571b9667c4",
        "colab": {
          "base_uri": "https://localhost:8080/",
          "height": 555
        }
      },
      "source": [
        "from sklearn.metrics import roc_curve, auc\n",
        "\n",
        "fpr_1, tpr_1, threshold = roc_curve(y_test,pred_y_test_1,pos_label=1)\n",
        "roc_auc_1 = auc(fpr_1, tpr_1)\n",
        "fpr_2, tpr_2, threshold = roc_curve(y_test,pred_y_test_2,pos_label=1)\n",
        "roc_auc_2 = auc(fpr_2, tpr_2)\n",
        "fpr_3, tpr_3, threshold = roc_curve(y_test,pred_y_test_3,pos_label=1)\n",
        "roc_auc_3 = auc(fpr_3, tpr_3)\n",
        "fpr_4, tpr_4, threshold = roc_curve(y_test,pred_y_test_4,pos_label=1)\n",
        "roc_auc_4 = auc(fpr_4, tpr_4)\n",
        "plt.figure(figsize=(6,6),dpi=100)\n",
        "plt.plot([0, 1], [0, 1], color='black', linestyle='--')\n",
        "plt.plot(fpr_1, tpr_1, color='darkorange',linestyle='--', label='Naive Bayes(area = %0.4f)' % roc_auc_1)\n",
        "\n",
        "plt.plot(fpr_2, tpr_2, color='green',linestyle='--', label='Logistic regression(area = %0.4f)' % roc_auc_2)\n",
        "\n",
        "plt.plot(fpr_3, tpr_3, color='blue',linestyle='--', label='SVM(area = %0.4f)' % roc_auc_3)\n",
        "\n",
        "plt.plot(fpr_4, tpr_4, color='red',linestyle='--', label='KNN(area = %0.4f)' % roc_auc_4)\n",
        "\n",
        "plt.xlim([0.0, 1.0])\n",
        "plt.ylim([0.0, 1.05])\n",
        "plt.xlabel('False Positive Rate')\n",
        "plt.ylabel('True Positive Rate')\n",
        "plt.title('Receiver operating characteristic')\n",
        "plt.legend(loc=\"lower right\")\n",
        "plt.show()"
      ],
      "execution_count": 64,
      "outputs": [
        {
          "output_type": "display_data",
          "data": {
            "image/png": "[encoded data removed]",
            "text/plain": [
              "<Figure size 600x600 with 1 Axes>"
            ]
          },
          "metadata": {
            "tags": [],
            "needs_background": "light"
          }
        }
      ]
    },
    {
      "cell_type": "markdown",
      "metadata": {
        "id": "x6wsSYDNQD6f"
      },
      "source": [
        "# **Final Analysis**\n",
        "\n",
        "> **SVM has highest AUC of ROC curve, area= 0.9368 while logistic regression  model has AUC=0.9357**\n",
        "\n",
        "> `From above criteria both SVM and logistic regression model performed equally well`\n",
        "\n",
        "\n",
        "\n",
        "### > **For our spam detector, we want to maximize precision of Spam and maximize recall of Ham**\n",
        "\n",
        "> **Logistic Regression model has higher value in both precision of Spam and recall of Ham**\n",
        "\n",
        "> **Logistic Regression model has higher accuracy (accuracy score=0.9806576402321083)**\n",
        "\n",
        "\n",
        "##> **Therefore I would choose Logistic Regression model over all the above models**\n",
        "\n",
        "\n",
        "\n",
        "\n",
        "\n",
        "\n",
        "\n",
        "\n",
        "\n",
        "\n",
        "\n",
        "\n",
        "\n"
      ]
    }
  ]
}